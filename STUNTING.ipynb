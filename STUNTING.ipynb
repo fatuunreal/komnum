{
  "nbformat": 4,
  "nbformat_minor": 0,
  "metadata": {
    "colab": {
      "provenance": [],
      "gpuType": "T4",
      "include_colab_link": true
    },
    "kernelspec": {
      "name": "python3",
      "display_name": "Python 3"
    },
    "language_info": {
      "name": "python"
    },
    "accelerator": "GPU"
  },
  "cells": [
    {
      "cell_type": "markdown",
      "metadata": {
        "id": "view-in-github",
        "colab_type": "text"
      },
      "source": [
        "<a href=\"https://colab.research.google.com/github/fatuunreal/komnum/blob/main/STUNTING.ipynb\" target=\"_parent\"><img src=\"https://colab.research.google.com/assets/colab-badge.svg\" alt=\"Open In Colab\"/></a>"
      ]
    },
    {
      "cell_type": "markdown",
      "source": [
        "<center><img src=\"https://dinus.ac.id/wp-content/uploads/2024/11/Logo-Web-Udinus-Putih.png\"  width=\"400\">\n",
        "\n",
        "\n",
        "# Komputasi Numerik - Teknik Informatika S1 - 29 Juni 2025\n",
        "</center>\n",
        "\n",
        "#By : FATU RAHMAT ~ A11.2022.14831\n",
        "\n",
        "# Comparing Model Decision Tree dan Random Forest dalam Klasifikasi Stunting pada Anak"
      ],
      "metadata": {
        "id": "ko7vfqQlYWym"
      }
    },
    {
      "cell_type": "markdown",
      "source": [
        "## BAB 1 - Mengumpulkan data\n",
        "\n"
      ],
      "metadata": {
        "id": "xtEQMJIobeFY"
      }
    },
    {
      "cell_type": "markdown",
      "source": [
        "### Load Libary"
      ],
      "metadata": {
        "id": "VnLAsM-RP9u7"
      }
    },
    {
      "cell_type": "code",
      "execution_count": 387,
      "metadata": {
        "id": "Mx_n7bsbXcnB"
      },
      "outputs": [],
      "source": [
        "# Import Library\n",
        "import pandas as pd\n",
        "import seaborn as sns\n",
        "import matplotlib.pyplot as plt\n",
        "import numpy as np\n",
        "from sklearn.impute import SimpleImputer\n",
        "from sklearn.model_selection import train_test_split, GridSearchCV, RandomizedSearchCV\n",
        "from sklearn.preprocessing import RobustScaler\n",
        "from sklearn.preprocessing import StandardScaler\n",
        "from sklearn.svm import SVC\n",
        "from sklearn.tree import DecisionTreeClassifier\n",
        "from sklearn.neighbors import KNeighborsClassifier\n",
        "from sklearn.linear_model import LogisticRegression\n",
        "from sklearn.metrics import classification_report, confusion_matrix\n",
        "from imblearn.over_sampling import SMOTE\n",
        "from sklearn.metrics import accuracy_score"
      ]
    },
    {
      "cell_type": "markdown",
      "source": [
        "### Load Dataset"
      ],
      "metadata": {
        "id": "FuSyY6ZVQBGj"
      }
    },
    {
      "cell_type": "code",
      "source": [
        "# Load Dataset\n",
        "df = pd.read_csv(\"Stunting_Dataset.csv\")\n",
        "df.head()"
      ],
      "metadata": {
        "id": "zoTEdiDwLErm",
        "colab": {
          "base_uri": "https://localhost:8080/",
          "height": 223
        },
        "outputId": "ec6e0d37-0542-43de-fecf-1157266de619"
      },
      "execution_count": 388,
      "outputs": [
        {
          "output_type": "execute_result",
          "data": {
            "text/plain": [
              "   Gender  Age  Birth Weight  Birth Length  Body Weight  Body Length  \\\n",
              "0  female   56           2.9            50         11.0         90.0   \n",
              "1  female   20           3.3            49         11.1         80.5   \n",
              "2    male    4           2.8            48          6.5         63.0   \n",
              "3  female   14           2.0            49          7.0         71.0   \n",
              "4    male   32           3.2            49         11.0         88.7   \n",
              "\n",
              "  Breastfeeding Stunting  \n",
              "0           Yes       No  \n",
              "1            No       No  \n",
              "2            No       No  \n",
              "3           Yes       No  \n",
              "4           Yes       No  "
            ],
            "text/html": [
              "\n",
              "  <div id=\"df-446bf7f1-84f9-4ce3-a12f-8146ebeea2c2\" class=\"colab-df-container\">\n",
              "    <div>\n",
              "<style scoped>\n",
              "    .dataframe tbody tr th:only-of-type {\n",
              "        vertical-align: middle;\n",
              "    }\n",
              "\n",
              "    .dataframe tbody tr th {\n",
              "        vertical-align: top;\n",
              "    }\n",
              "\n",
              "    .dataframe thead th {\n",
              "        text-align: right;\n",
              "    }\n",
              "</style>\n",
              "<table border=\"1\" class=\"dataframe\">\n",
              "  <thead>\n",
              "    <tr style=\"text-align: right;\">\n",
              "      <th></th>\n",
              "      <th>Gender</th>\n",
              "      <th>Age</th>\n",
              "      <th>Birth Weight</th>\n",
              "      <th>Birth Length</th>\n",
              "      <th>Body Weight</th>\n",
              "      <th>Body Length</th>\n",
              "      <th>Breastfeeding</th>\n",
              "      <th>Stunting</th>\n",
              "    </tr>\n",
              "  </thead>\n",
              "  <tbody>\n",
              "    <tr>\n",
              "      <th>0</th>\n",
              "      <td>female</td>\n",
              "      <td>56</td>\n",
              "      <td>2.9</td>\n",
              "      <td>50</td>\n",
              "      <td>11.0</td>\n",
              "      <td>90.0</td>\n",
              "      <td>Yes</td>\n",
              "      <td>No</td>\n",
              "    </tr>\n",
              "    <tr>\n",
              "      <th>1</th>\n",
              "      <td>female</td>\n",
              "      <td>20</td>\n",
              "      <td>3.3</td>\n",
              "      <td>49</td>\n",
              "      <td>11.1</td>\n",
              "      <td>80.5</td>\n",
              "      <td>No</td>\n",
              "      <td>No</td>\n",
              "    </tr>\n",
              "    <tr>\n",
              "      <th>2</th>\n",
              "      <td>male</td>\n",
              "      <td>4</td>\n",
              "      <td>2.8</td>\n",
              "      <td>48</td>\n",
              "      <td>6.5</td>\n",
              "      <td>63.0</td>\n",
              "      <td>No</td>\n",
              "      <td>No</td>\n",
              "    </tr>\n",
              "    <tr>\n",
              "      <th>3</th>\n",
              "      <td>female</td>\n",
              "      <td>14</td>\n",
              "      <td>2.0</td>\n",
              "      <td>49</td>\n",
              "      <td>7.0</td>\n",
              "      <td>71.0</td>\n",
              "      <td>Yes</td>\n",
              "      <td>No</td>\n",
              "    </tr>\n",
              "    <tr>\n",
              "      <th>4</th>\n",
              "      <td>male</td>\n",
              "      <td>32</td>\n",
              "      <td>3.2</td>\n",
              "      <td>49</td>\n",
              "      <td>11.0</td>\n",
              "      <td>88.7</td>\n",
              "      <td>Yes</td>\n",
              "      <td>No</td>\n",
              "    </tr>\n",
              "  </tbody>\n",
              "</table>\n",
              "</div>\n",
              "    <div class=\"colab-df-buttons\">\n",
              "\n",
              "  <div class=\"colab-df-container\">\n",
              "    <button class=\"colab-df-convert\" onclick=\"convertToInteractive('df-446bf7f1-84f9-4ce3-a12f-8146ebeea2c2')\"\n",
              "            title=\"Convert this dataframe to an interactive table.\"\n",
              "            style=\"display:none;\">\n",
              "\n",
              "  <svg xmlns=\"http://www.w3.org/2000/svg\" height=\"24px\" viewBox=\"0 -960 960 960\">\n",
              "    <path d=\"M120-120v-720h720v720H120Zm60-500h600v-160H180v160Zm220 220h160v-160H400v160Zm0 220h160v-160H400v160ZM180-400h160v-160H180v160Zm440 0h160v-160H620v160ZM180-180h160v-160H180v160Zm440 0h160v-160H620v160Z\"/>\n",
              "  </svg>\n",
              "    </button>\n",
              "\n",
              "  <style>\n",
              "    .colab-df-container {\n",
              "      display:flex;\n",
              "      gap: 12px;\n",
              "    }\n",
              "\n",
              "    .colab-df-convert {\n",
              "      background-color: #E8F0FE;\n",
              "      border: none;\n",
              "      border-radius: 50%;\n",
              "      cursor: pointer;\n",
              "      display: none;\n",
              "      fill: #1967D2;\n",
              "      height: 32px;\n",
              "      padding: 0 0 0 0;\n",
              "      width: 32px;\n",
              "    }\n",
              "\n",
              "    .colab-df-convert:hover {\n",
              "      background-color: #E2EBFA;\n",
              "      box-shadow: 0px 1px 2px rgba(60, 64, 67, 0.3), 0px 1px 3px 1px rgba(60, 64, 67, 0.15);\n",
              "      fill: #174EA6;\n",
              "    }\n",
              "\n",
              "    .colab-df-buttons div {\n",
              "      margin-bottom: 4px;\n",
              "    }\n",
              "\n",
              "    [theme=dark] .colab-df-convert {\n",
              "      background-color: #3B4455;\n",
              "      fill: #D2E3FC;\n",
              "    }\n",
              "\n",
              "    [theme=dark] .colab-df-convert:hover {\n",
              "      background-color: #434B5C;\n",
              "      box-shadow: 0px 1px 3px 1px rgba(0, 0, 0, 0.15);\n",
              "      filter: drop-shadow(0px 1px 2px rgba(0, 0, 0, 0.3));\n",
              "      fill: #FFFFFF;\n",
              "    }\n",
              "  </style>\n",
              "\n",
              "    <script>\n",
              "      const buttonEl =\n",
              "        document.querySelector('#df-446bf7f1-84f9-4ce3-a12f-8146ebeea2c2 button.colab-df-convert');\n",
              "      buttonEl.style.display =\n",
              "        google.colab.kernel.accessAllowed ? 'block' : 'none';\n",
              "\n",
              "      async function convertToInteractive(key) {\n",
              "        const element = document.querySelector('#df-446bf7f1-84f9-4ce3-a12f-8146ebeea2c2');\n",
              "        const dataTable =\n",
              "          await google.colab.kernel.invokeFunction('convertToInteractive',\n",
              "                                                    [key], {});\n",
              "        if (!dataTable) return;\n",
              "\n",
              "        const docLinkHtml = 'Like what you see? Visit the ' +\n",
              "          '<a target=\"_blank\" href=https://colab.research.google.com/notebooks/data_table.ipynb>data table notebook</a>'\n",
              "          + ' to learn more about interactive tables.';\n",
              "        element.innerHTML = '';\n",
              "        dataTable['output_type'] = 'display_data';\n",
              "        await google.colab.output.renderOutput(dataTable, element);\n",
              "        const docLink = document.createElement('div');\n",
              "        docLink.innerHTML = docLinkHtml;\n",
              "        element.appendChild(docLink);\n",
              "      }\n",
              "    </script>\n",
              "  </div>\n",
              "\n",
              "\n",
              "    <div id=\"df-067fc7fa-3522-415a-8a4e-5f2d6085c77b\">\n",
              "      <button class=\"colab-df-quickchart\" onclick=\"quickchart('df-067fc7fa-3522-415a-8a4e-5f2d6085c77b')\"\n",
              "                title=\"Suggest charts\"\n",
              "                style=\"display:none;\">\n",
              "\n",
              "<svg xmlns=\"http://www.w3.org/2000/svg\" height=\"24px\"viewBox=\"0 0 24 24\"\n",
              "     width=\"24px\">\n",
              "    <g>\n",
              "        <path d=\"M19 3H5c-1.1 0-2 .9-2 2v14c0 1.1.9 2 2 2h14c1.1 0 2-.9 2-2V5c0-1.1-.9-2-2-2zM9 17H7v-7h2v7zm4 0h-2V7h2v10zm4 0h-2v-4h2v4z\"/>\n",
              "    </g>\n",
              "</svg>\n",
              "      </button>\n",
              "\n",
              "<style>\n",
              "  .colab-df-quickchart {\n",
              "      --bg-color: #E8F0FE;\n",
              "      --fill-color: #1967D2;\n",
              "      --hover-bg-color: #E2EBFA;\n",
              "      --hover-fill-color: #174EA6;\n",
              "      --disabled-fill-color: #AAA;\n",
              "      --disabled-bg-color: #DDD;\n",
              "  }\n",
              "\n",
              "  [theme=dark] .colab-df-quickchart {\n",
              "      --bg-color: #3B4455;\n",
              "      --fill-color: #D2E3FC;\n",
              "      --hover-bg-color: #434B5C;\n",
              "      --hover-fill-color: #FFFFFF;\n",
              "      --disabled-bg-color: #3B4455;\n",
              "      --disabled-fill-color: #666;\n",
              "  }\n",
              "\n",
              "  .colab-df-quickchart {\n",
              "    background-color: var(--bg-color);\n",
              "    border: none;\n",
              "    border-radius: 50%;\n",
              "    cursor: pointer;\n",
              "    display: none;\n",
              "    fill: var(--fill-color);\n",
              "    height: 32px;\n",
              "    padding: 0;\n",
              "    width: 32px;\n",
              "  }\n",
              "\n",
              "  .colab-df-quickchart:hover {\n",
              "    background-color: var(--hover-bg-color);\n",
              "    box-shadow: 0 1px 2px rgba(60, 64, 67, 0.3), 0 1px 3px 1px rgba(60, 64, 67, 0.15);\n",
              "    fill: var(--button-hover-fill-color);\n",
              "  }\n",
              "\n",
              "  .colab-df-quickchart-complete:disabled,\n",
              "  .colab-df-quickchart-complete:disabled:hover {\n",
              "    background-color: var(--disabled-bg-color);\n",
              "    fill: var(--disabled-fill-color);\n",
              "    box-shadow: none;\n",
              "  }\n",
              "\n",
              "  .colab-df-spinner {\n",
              "    border: 2px solid var(--fill-color);\n",
              "    border-color: transparent;\n",
              "    border-bottom-color: var(--fill-color);\n",
              "    animation:\n",
              "      spin 1s steps(1) infinite;\n",
              "  }\n",
              "\n",
              "  @keyframes spin {\n",
              "    0% {\n",
              "      border-color: transparent;\n",
              "      border-bottom-color: var(--fill-color);\n",
              "      border-left-color: var(--fill-color);\n",
              "    }\n",
              "    20% {\n",
              "      border-color: transparent;\n",
              "      border-left-color: var(--fill-color);\n",
              "      border-top-color: var(--fill-color);\n",
              "    }\n",
              "    30% {\n",
              "      border-color: transparent;\n",
              "      border-left-color: var(--fill-color);\n",
              "      border-top-color: var(--fill-color);\n",
              "      border-right-color: var(--fill-color);\n",
              "    }\n",
              "    40% {\n",
              "      border-color: transparent;\n",
              "      border-right-color: var(--fill-color);\n",
              "      border-top-color: var(--fill-color);\n",
              "    }\n",
              "    60% {\n",
              "      border-color: transparent;\n",
              "      border-right-color: var(--fill-color);\n",
              "    }\n",
              "    80% {\n",
              "      border-color: transparent;\n",
              "      border-right-color: var(--fill-color);\n",
              "      border-bottom-color: var(--fill-color);\n",
              "    }\n",
              "    90% {\n",
              "      border-color: transparent;\n",
              "      border-bottom-color: var(--fill-color);\n",
              "    }\n",
              "  }\n",
              "</style>\n",
              "\n",
              "      <script>\n",
              "        async function quickchart(key) {\n",
              "          const quickchartButtonEl =\n",
              "            document.querySelector('#' + key + ' button');\n",
              "          quickchartButtonEl.disabled = true;  // To prevent multiple clicks.\n",
              "          quickchartButtonEl.classList.add('colab-df-spinner');\n",
              "          try {\n",
              "            const charts = await google.colab.kernel.invokeFunction(\n",
              "                'suggestCharts', [key], {});\n",
              "          } catch (error) {\n",
              "            console.error('Error during call to suggestCharts:', error);\n",
              "          }\n",
              "          quickchartButtonEl.classList.remove('colab-df-spinner');\n",
              "          quickchartButtonEl.classList.add('colab-df-quickchart-complete');\n",
              "        }\n",
              "        (() => {\n",
              "          let quickchartButtonEl =\n",
              "            document.querySelector('#df-067fc7fa-3522-415a-8a4e-5f2d6085c77b button');\n",
              "          quickchartButtonEl.style.display =\n",
              "            google.colab.kernel.accessAllowed ? 'block' : 'none';\n",
              "        })();\n",
              "      </script>\n",
              "    </div>\n",
              "\n",
              "    </div>\n",
              "  </div>\n"
            ],
            "application/vnd.google.colaboratory.intrinsic+json": {
              "type": "dataframe",
              "variable_name": "df",
              "summary": "{\n  \"name\": \"df\",\n  \"rows\": 6500,\n  \"fields\": [\n    {\n      \"column\": \"Gender\",\n      \"properties\": {\n        \"dtype\": \"category\",\n        \"num_unique_values\": 2,\n        \"samples\": [\n          \"male\",\n          \"female\"\n        ],\n        \"semantic_type\": \"\",\n        \"description\": \"\"\n      }\n    },\n    {\n      \"column\": \"Age\",\n      \"properties\": {\n        \"dtype\": \"number\",\n        \"std\": 16,\n        \"min\": 1,\n        \"max\": 59,\n        \"num_unique_values\": 59,\n        \"samples\": [\n          56,\n          30\n        ],\n        \"semantic_type\": \"\",\n        \"description\": \"\"\n      }\n    },\n    {\n      \"column\": \"Birth Weight\",\n      \"properties\": {\n        \"dtype\": \"number\",\n        \"std\": 0.3499555825717154,\n        \"min\": 1.8,\n        \"max\": 4.0,\n        \"num_unique_values\": 22,\n        \"samples\": [\n          2.9,\n          3.4\n        ],\n        \"semantic_type\": \"\",\n        \"description\": \"\"\n      }\n    },\n    {\n      \"column\": \"Birth Length\",\n      \"properties\": {\n        \"dtype\": \"number\",\n        \"std\": 1,\n        \"min\": 42,\n        \"max\": 53,\n        \"num_unique_values\": 10,\n        \"samples\": [\n          46,\n          49\n        ],\n        \"semantic_type\": \"\",\n        \"description\": \"\"\n      }\n    },\n    {\n      \"column\": \"Body Weight\",\n      \"properties\": {\n        \"dtype\": \"number\",\n        \"std\": 3.4599524435317033,\n        \"min\": 2.9,\n        \"max\": 24.5,\n        \"num_unique_values\": 99,\n        \"samples\": [\n          8.1,\n          8.0\n        ],\n        \"semantic_type\": \"\",\n        \"description\": \"\"\n      }\n    },\n    {\n      \"column\": \"Body Length\",\n      \"properties\": {\n        \"dtype\": \"number\",\n        \"std\": 14.073021061155655,\n        \"min\": 53.0,\n        \"max\": 111.0,\n        \"num_unique_values\": 146,\n        \"samples\": [\n          98.0,\n          83.0\n        ],\n        \"semantic_type\": \"\",\n        \"description\": \"\"\n      }\n    },\n    {\n      \"column\": \"Breastfeeding\",\n      \"properties\": {\n        \"dtype\": \"category\",\n        \"num_unique_values\": 2,\n        \"samples\": [\n          \"No\",\n          \"Yes\"\n        ],\n        \"semantic_type\": \"\",\n        \"description\": \"\"\n      }\n    },\n    {\n      \"column\": \"Stunting\",\n      \"properties\": {\n        \"dtype\": \"category\",\n        \"num_unique_values\": 2,\n        \"samples\": [\n          \"Yes\",\n          \"No\"\n        ],\n        \"semantic_type\": \"\",\n        \"description\": \"\"\n      }\n    }\n  ]\n}"
            }
          },
          "metadata": {},
          "execution_count": 388
        }
      ]
    },
    {
      "cell_type": "code",
      "source": [
        "# cek nama kolom\n",
        "df.columns"
      ],
      "metadata": {
        "colab": {
          "base_uri": "https://localhost:8080/"
        },
        "id": "CgW1eSojKPBj",
        "outputId": "a0d69f46-a086-48c4-c31c-aad426c4e362"
      },
      "execution_count": 389,
      "outputs": [
        {
          "output_type": "execute_result",
          "data": {
            "text/plain": [
              "Index(['Gender', 'Age', 'Birth Weight', 'Birth Length', 'Body Weight',\n",
              "       'Body Length', 'Breastfeeding', 'Stunting'],\n",
              "      dtype='object')"
            ]
          },
          "metadata": {},
          "execution_count": 389
        }
      ]
    },
    {
      "cell_type": "markdown",
      "source": [
        "Perhatikan nama kolom pada dataset. Gantilah nama-nama kolom yang masih berupa indeks (angka) dengan nama-nama fitur yang sesuai, yaitu: 'age', 'gender', 'tb', 'db', 'alkphos', 'sgpt', 'sgot', 'tp', 'alb', 'a/g ratio', dan 'selector'."
      ],
      "metadata": {
        "id": "PFzMeSHwKY5I"
      }
    },
    {
      "cell_type": "markdown",
      "source": [
        "## BAB 2 – Menelaah data"
      ],
      "metadata": {
        "id": "FBtaaWjLb-nP"
      }
    },
    {
      "cell_type": "markdown",
      "source": [
        "### Mengecek Value"
      ],
      "metadata": {
        "id": "fo3tkl7NQPHD"
      }
    },
    {
      "cell_type": "code",
      "source": [
        "# Menampilkan data setelah nama kolom berhasil diganti. (5 kolom teratas)\n",
        "df.head()"
      ],
      "metadata": {
        "id": "11A4zxD1dmmA",
        "colab": {
          "base_uri": "https://localhost:8080/",
          "height": 223
        },
        "outputId": "06204538-e480-47ac-c588-0823dd77b6e1"
      },
      "execution_count": 390,
      "outputs": [
        {
          "output_type": "execute_result",
          "data": {
            "text/plain": [
              "   Gender  Age  Birth Weight  Birth Length  Body Weight  Body Length  \\\n",
              "0  female   56           2.9            50         11.0         90.0   \n",
              "1  female   20           3.3            49         11.1         80.5   \n",
              "2    male    4           2.8            48          6.5         63.0   \n",
              "3  female   14           2.0            49          7.0         71.0   \n",
              "4    male   32           3.2            49         11.0         88.7   \n",
              "\n",
              "  Breastfeeding Stunting  \n",
              "0           Yes       No  \n",
              "1            No       No  \n",
              "2            No       No  \n",
              "3           Yes       No  \n",
              "4           Yes       No  "
            ],
            "text/html": [
              "\n",
              "  <div id=\"df-04e28371-4706-4ae2-a6be-75452a1702c6\" class=\"colab-df-container\">\n",
              "    <div>\n",
              "<style scoped>\n",
              "    .dataframe tbody tr th:only-of-type {\n",
              "        vertical-align: middle;\n",
              "    }\n",
              "\n",
              "    .dataframe tbody tr th {\n",
              "        vertical-align: top;\n",
              "    }\n",
              "\n",
              "    .dataframe thead th {\n",
              "        text-align: right;\n",
              "    }\n",
              "</style>\n",
              "<table border=\"1\" class=\"dataframe\">\n",
              "  <thead>\n",
              "    <tr style=\"text-align: right;\">\n",
              "      <th></th>\n",
              "      <th>Gender</th>\n",
              "      <th>Age</th>\n",
              "      <th>Birth Weight</th>\n",
              "      <th>Birth Length</th>\n",
              "      <th>Body Weight</th>\n",
              "      <th>Body Length</th>\n",
              "      <th>Breastfeeding</th>\n",
              "      <th>Stunting</th>\n",
              "    </tr>\n",
              "  </thead>\n",
              "  <tbody>\n",
              "    <tr>\n",
              "      <th>0</th>\n",
              "      <td>female</td>\n",
              "      <td>56</td>\n",
              "      <td>2.9</td>\n",
              "      <td>50</td>\n",
              "      <td>11.0</td>\n",
              "      <td>90.0</td>\n",
              "      <td>Yes</td>\n",
              "      <td>No</td>\n",
              "    </tr>\n",
              "    <tr>\n",
              "      <th>1</th>\n",
              "      <td>female</td>\n",
              "      <td>20</td>\n",
              "      <td>3.3</td>\n",
              "      <td>49</td>\n",
              "      <td>11.1</td>\n",
              "      <td>80.5</td>\n",
              "      <td>No</td>\n",
              "      <td>No</td>\n",
              "    </tr>\n",
              "    <tr>\n",
              "      <th>2</th>\n",
              "      <td>male</td>\n",
              "      <td>4</td>\n",
              "      <td>2.8</td>\n",
              "      <td>48</td>\n",
              "      <td>6.5</td>\n",
              "      <td>63.0</td>\n",
              "      <td>No</td>\n",
              "      <td>No</td>\n",
              "    </tr>\n",
              "    <tr>\n",
              "      <th>3</th>\n",
              "      <td>female</td>\n",
              "      <td>14</td>\n",
              "      <td>2.0</td>\n",
              "      <td>49</td>\n",
              "      <td>7.0</td>\n",
              "      <td>71.0</td>\n",
              "      <td>Yes</td>\n",
              "      <td>No</td>\n",
              "    </tr>\n",
              "    <tr>\n",
              "      <th>4</th>\n",
              "      <td>male</td>\n",
              "      <td>32</td>\n",
              "      <td>3.2</td>\n",
              "      <td>49</td>\n",
              "      <td>11.0</td>\n",
              "      <td>88.7</td>\n",
              "      <td>Yes</td>\n",
              "      <td>No</td>\n",
              "    </tr>\n",
              "  </tbody>\n",
              "</table>\n",
              "</div>\n",
              "    <div class=\"colab-df-buttons\">\n",
              "\n",
              "  <div class=\"colab-df-container\">\n",
              "    <button class=\"colab-df-convert\" onclick=\"convertToInteractive('df-04e28371-4706-4ae2-a6be-75452a1702c6')\"\n",
              "            title=\"Convert this dataframe to an interactive table.\"\n",
              "            style=\"display:none;\">\n",
              "\n",
              "  <svg xmlns=\"http://www.w3.org/2000/svg\" height=\"24px\" viewBox=\"0 -960 960 960\">\n",
              "    <path d=\"M120-120v-720h720v720H120Zm60-500h600v-160H180v160Zm220 220h160v-160H400v160Zm0 220h160v-160H400v160ZM180-400h160v-160H180v160Zm440 0h160v-160H620v160ZM180-180h160v-160H180v160Zm440 0h160v-160H620v160Z\"/>\n",
              "  </svg>\n",
              "    </button>\n",
              "\n",
              "  <style>\n",
              "    .colab-df-container {\n",
              "      display:flex;\n",
              "      gap: 12px;\n",
              "    }\n",
              "\n",
              "    .colab-df-convert {\n",
              "      background-color: #E8F0FE;\n",
              "      border: none;\n",
              "      border-radius: 50%;\n",
              "      cursor: pointer;\n",
              "      display: none;\n",
              "      fill: #1967D2;\n",
              "      height: 32px;\n",
              "      padding: 0 0 0 0;\n",
              "      width: 32px;\n",
              "    }\n",
              "\n",
              "    .colab-df-convert:hover {\n",
              "      background-color: #E2EBFA;\n",
              "      box-shadow: 0px 1px 2px rgba(60, 64, 67, 0.3), 0px 1px 3px 1px rgba(60, 64, 67, 0.15);\n",
              "      fill: #174EA6;\n",
              "    }\n",
              "\n",
              "    .colab-df-buttons div {\n",
              "      margin-bottom: 4px;\n",
              "    }\n",
              "\n",
              "    [theme=dark] .colab-df-convert {\n",
              "      background-color: #3B4455;\n",
              "      fill: #D2E3FC;\n",
              "    }\n",
              "\n",
              "    [theme=dark] .colab-df-convert:hover {\n",
              "      background-color: #434B5C;\n",
              "      box-shadow: 0px 1px 3px 1px rgba(0, 0, 0, 0.15);\n",
              "      filter: drop-shadow(0px 1px 2px rgba(0, 0, 0, 0.3));\n",
              "      fill: #FFFFFF;\n",
              "    }\n",
              "  </style>\n",
              "\n",
              "    <script>\n",
              "      const buttonEl =\n",
              "        document.querySelector('#df-04e28371-4706-4ae2-a6be-75452a1702c6 button.colab-df-convert');\n",
              "      buttonEl.style.display =\n",
              "        google.colab.kernel.accessAllowed ? 'block' : 'none';\n",
              "\n",
              "      async function convertToInteractive(key) {\n",
              "        const element = document.querySelector('#df-04e28371-4706-4ae2-a6be-75452a1702c6');\n",
              "        const dataTable =\n",
              "          await google.colab.kernel.invokeFunction('convertToInteractive',\n",
              "                                                    [key], {});\n",
              "        if (!dataTable) return;\n",
              "\n",
              "        const docLinkHtml = 'Like what you see? Visit the ' +\n",
              "          '<a target=\"_blank\" href=https://colab.research.google.com/notebooks/data_table.ipynb>data table notebook</a>'\n",
              "          + ' to learn more about interactive tables.';\n",
              "        element.innerHTML = '';\n",
              "        dataTable['output_type'] = 'display_data';\n",
              "        await google.colab.output.renderOutput(dataTable, element);\n",
              "        const docLink = document.createElement('div');\n",
              "        docLink.innerHTML = docLinkHtml;\n",
              "        element.appendChild(docLink);\n",
              "      }\n",
              "    </script>\n",
              "  </div>\n",
              "\n",
              "\n",
              "    <div id=\"df-b34f21b9-073d-47ab-8eaf-82f36db13989\">\n",
              "      <button class=\"colab-df-quickchart\" onclick=\"quickchart('df-b34f21b9-073d-47ab-8eaf-82f36db13989')\"\n",
              "                title=\"Suggest charts\"\n",
              "                style=\"display:none;\">\n",
              "\n",
              "<svg xmlns=\"http://www.w3.org/2000/svg\" height=\"24px\"viewBox=\"0 0 24 24\"\n",
              "     width=\"24px\">\n",
              "    <g>\n",
              "        <path d=\"M19 3H5c-1.1 0-2 .9-2 2v14c0 1.1.9 2 2 2h14c1.1 0 2-.9 2-2V5c0-1.1-.9-2-2-2zM9 17H7v-7h2v7zm4 0h-2V7h2v10zm4 0h-2v-4h2v4z\"/>\n",
              "    </g>\n",
              "</svg>\n",
              "      </button>\n",
              "\n",
              "<style>\n",
              "  .colab-df-quickchart {\n",
              "      --bg-color: #E8F0FE;\n",
              "      --fill-color: #1967D2;\n",
              "      --hover-bg-color: #E2EBFA;\n",
              "      --hover-fill-color: #174EA6;\n",
              "      --disabled-fill-color: #AAA;\n",
              "      --disabled-bg-color: #DDD;\n",
              "  }\n",
              "\n",
              "  [theme=dark] .colab-df-quickchart {\n",
              "      --bg-color: #3B4455;\n",
              "      --fill-color: #D2E3FC;\n",
              "      --hover-bg-color: #434B5C;\n",
              "      --hover-fill-color: #FFFFFF;\n",
              "      --disabled-bg-color: #3B4455;\n",
              "      --disabled-fill-color: #666;\n",
              "  }\n",
              "\n",
              "  .colab-df-quickchart {\n",
              "    background-color: var(--bg-color);\n",
              "    border: none;\n",
              "    border-radius: 50%;\n",
              "    cursor: pointer;\n",
              "    display: none;\n",
              "    fill: var(--fill-color);\n",
              "    height: 32px;\n",
              "    padding: 0;\n",
              "    width: 32px;\n",
              "  }\n",
              "\n",
              "  .colab-df-quickchart:hover {\n",
              "    background-color: var(--hover-bg-color);\n",
              "    box-shadow: 0 1px 2px rgba(60, 64, 67, 0.3), 0 1px 3px 1px rgba(60, 64, 67, 0.15);\n",
              "    fill: var(--button-hover-fill-color);\n",
              "  }\n",
              "\n",
              "  .colab-df-quickchart-complete:disabled,\n",
              "  .colab-df-quickchart-complete:disabled:hover {\n",
              "    background-color: var(--disabled-bg-color);\n",
              "    fill: var(--disabled-fill-color);\n",
              "    box-shadow: none;\n",
              "  }\n",
              "\n",
              "  .colab-df-spinner {\n",
              "    border: 2px solid var(--fill-color);\n",
              "    border-color: transparent;\n",
              "    border-bottom-color: var(--fill-color);\n",
              "    animation:\n",
              "      spin 1s steps(1) infinite;\n",
              "  }\n",
              "\n",
              "  @keyframes spin {\n",
              "    0% {\n",
              "      border-color: transparent;\n",
              "      border-bottom-color: var(--fill-color);\n",
              "      border-left-color: var(--fill-color);\n",
              "    }\n",
              "    20% {\n",
              "      border-color: transparent;\n",
              "      border-left-color: var(--fill-color);\n",
              "      border-top-color: var(--fill-color);\n",
              "    }\n",
              "    30% {\n",
              "      border-color: transparent;\n",
              "      border-left-color: var(--fill-color);\n",
              "      border-top-color: var(--fill-color);\n",
              "      border-right-color: var(--fill-color);\n",
              "    }\n",
              "    40% {\n",
              "      border-color: transparent;\n",
              "      border-right-color: var(--fill-color);\n",
              "      border-top-color: var(--fill-color);\n",
              "    }\n",
              "    60% {\n",
              "      border-color: transparent;\n",
              "      border-right-color: var(--fill-color);\n",
              "    }\n",
              "    80% {\n",
              "      border-color: transparent;\n",
              "      border-right-color: var(--fill-color);\n",
              "      border-bottom-color: var(--fill-color);\n",
              "    }\n",
              "    90% {\n",
              "      border-color: transparent;\n",
              "      border-bottom-color: var(--fill-color);\n",
              "    }\n",
              "  }\n",
              "</style>\n",
              "\n",
              "      <script>\n",
              "        async function quickchart(key) {\n",
              "          const quickchartButtonEl =\n",
              "            document.querySelector('#' + key + ' button');\n",
              "          quickchartButtonEl.disabled = true;  // To prevent multiple clicks.\n",
              "          quickchartButtonEl.classList.add('colab-df-spinner');\n",
              "          try {\n",
              "            const charts = await google.colab.kernel.invokeFunction(\n",
              "                'suggestCharts', [key], {});\n",
              "          } catch (error) {\n",
              "            console.error('Error during call to suggestCharts:', error);\n",
              "          }\n",
              "          quickchartButtonEl.classList.remove('colab-df-spinner');\n",
              "          quickchartButtonEl.classList.add('colab-df-quickchart-complete');\n",
              "        }\n",
              "        (() => {\n",
              "          let quickchartButtonEl =\n",
              "            document.querySelector('#df-b34f21b9-073d-47ab-8eaf-82f36db13989 button');\n",
              "          quickchartButtonEl.style.display =\n",
              "            google.colab.kernel.accessAllowed ? 'block' : 'none';\n",
              "        })();\n",
              "      </script>\n",
              "    </div>\n",
              "\n",
              "    </div>\n",
              "  </div>\n"
            ],
            "application/vnd.google.colaboratory.intrinsic+json": {
              "type": "dataframe",
              "variable_name": "df",
              "summary": "{\n  \"name\": \"df\",\n  \"rows\": 6500,\n  \"fields\": [\n    {\n      \"column\": \"Gender\",\n      \"properties\": {\n        \"dtype\": \"category\",\n        \"num_unique_values\": 2,\n        \"samples\": [\n          \"male\",\n          \"female\"\n        ],\n        \"semantic_type\": \"\",\n        \"description\": \"\"\n      }\n    },\n    {\n      \"column\": \"Age\",\n      \"properties\": {\n        \"dtype\": \"number\",\n        \"std\": 16,\n        \"min\": 1,\n        \"max\": 59,\n        \"num_unique_values\": 59,\n        \"samples\": [\n          56,\n          30\n        ],\n        \"semantic_type\": \"\",\n        \"description\": \"\"\n      }\n    },\n    {\n      \"column\": \"Birth Weight\",\n      \"properties\": {\n        \"dtype\": \"number\",\n        \"std\": 0.3499555825717154,\n        \"min\": 1.8,\n        \"max\": 4.0,\n        \"num_unique_values\": 22,\n        \"samples\": [\n          2.9,\n          3.4\n        ],\n        \"semantic_type\": \"\",\n        \"description\": \"\"\n      }\n    },\n    {\n      \"column\": \"Birth Length\",\n      \"properties\": {\n        \"dtype\": \"number\",\n        \"std\": 1,\n        \"min\": 42,\n        \"max\": 53,\n        \"num_unique_values\": 10,\n        \"samples\": [\n          46,\n          49\n        ],\n        \"semantic_type\": \"\",\n        \"description\": \"\"\n      }\n    },\n    {\n      \"column\": \"Body Weight\",\n      \"properties\": {\n        \"dtype\": \"number\",\n        \"std\": 3.4599524435317033,\n        \"min\": 2.9,\n        \"max\": 24.5,\n        \"num_unique_values\": 99,\n        \"samples\": [\n          8.1,\n          8.0\n        ],\n        \"semantic_type\": \"\",\n        \"description\": \"\"\n      }\n    },\n    {\n      \"column\": \"Body Length\",\n      \"properties\": {\n        \"dtype\": \"number\",\n        \"std\": 14.073021061155655,\n        \"min\": 53.0,\n        \"max\": 111.0,\n        \"num_unique_values\": 146,\n        \"samples\": [\n          98.0,\n          83.0\n        ],\n        \"semantic_type\": \"\",\n        \"description\": \"\"\n      }\n    },\n    {\n      \"column\": \"Breastfeeding\",\n      \"properties\": {\n        \"dtype\": \"category\",\n        \"num_unique_values\": 2,\n        \"samples\": [\n          \"No\",\n          \"Yes\"\n        ],\n        \"semantic_type\": \"\",\n        \"description\": \"\"\n      }\n    },\n    {\n      \"column\": \"Stunting\",\n      \"properties\": {\n        \"dtype\": \"category\",\n        \"num_unique_values\": 2,\n        \"samples\": [\n          \"Yes\",\n          \"No\"\n        ],\n        \"semantic_type\": \"\",\n        \"description\": \"\"\n      }\n    }\n  ]\n}"
            }
          },
          "metadata": {},
          "execution_count": 390
        }
      ]
    },
    {
      "cell_type": "markdown",
      "source": [
        "- Pada tahap ini, kita akan menelaah data yang ada pada dataset `Liver Patient Dataset (ILPD)`. Kita akan melihat informasi data, statistik deskriptif, dan distribusi data."
      ],
      "metadata": {
        "id": "fYJVHKHuebMz"
      }
    },
    {
      "cell_type": "code",
      "source": [
        "# Menampilkan data setelah nama kolom berhasil diganti. (5 kolom terbawah)\n",
        "df.tail()"
      ],
      "metadata": {
        "colab": {
          "base_uri": "https://localhost:8080/",
          "height": 223
        },
        "id": "MSSP6u9AQSdb",
        "outputId": "d20a7e56-9045-47c0-da67-070bdb8c2b70"
      },
      "execution_count": 391,
      "outputs": [
        {
          "output_type": "execute_result",
          "data": {
            "text/plain": [
              "      Gender  Age  Birth Weight  Birth Length  Body Weight  Body Length  \\\n",
              "6495    male   53           2.9            49         15.0         96.0   \n",
              "6496    male    9           2.9            50          7.3         62.0   \n",
              "6497  female   20           1.8            48          7.3         73.0   \n",
              "6498    male   11           2.9            49          7.7         66.0   \n",
              "6499  female   14           2.9            49          6.5         66.0   \n",
              "\n",
              "     Breastfeeding Stunting  \n",
              "6495            No      Yes  \n",
              "6496            No      Yes  \n",
              "6497           Yes      Yes  \n",
              "6498            No      Yes  \n",
              "6499            No      Yes  "
            ],
            "text/html": [
              "\n",
              "  <div id=\"df-aa32722e-5791-4e6b-af58-4b44d1352cfd\" class=\"colab-df-container\">\n",
              "    <div>\n",
              "<style scoped>\n",
              "    .dataframe tbody tr th:only-of-type {\n",
              "        vertical-align: middle;\n",
              "    }\n",
              "\n",
              "    .dataframe tbody tr th {\n",
              "        vertical-align: top;\n",
              "    }\n",
              "\n",
              "    .dataframe thead th {\n",
              "        text-align: right;\n",
              "    }\n",
              "</style>\n",
              "<table border=\"1\" class=\"dataframe\">\n",
              "  <thead>\n",
              "    <tr style=\"text-align: right;\">\n",
              "      <th></th>\n",
              "      <th>Gender</th>\n",
              "      <th>Age</th>\n",
              "      <th>Birth Weight</th>\n",
              "      <th>Birth Length</th>\n",
              "      <th>Body Weight</th>\n",
              "      <th>Body Length</th>\n",
              "      <th>Breastfeeding</th>\n",
              "      <th>Stunting</th>\n",
              "    </tr>\n",
              "  </thead>\n",
              "  <tbody>\n",
              "    <tr>\n",
              "      <th>6495</th>\n",
              "      <td>male</td>\n",
              "      <td>53</td>\n",
              "      <td>2.9</td>\n",
              "      <td>49</td>\n",
              "      <td>15.0</td>\n",
              "      <td>96.0</td>\n",
              "      <td>No</td>\n",
              "      <td>Yes</td>\n",
              "    </tr>\n",
              "    <tr>\n",
              "      <th>6496</th>\n",
              "      <td>male</td>\n",
              "      <td>9</td>\n",
              "      <td>2.9</td>\n",
              "      <td>50</td>\n",
              "      <td>7.3</td>\n",
              "      <td>62.0</td>\n",
              "      <td>No</td>\n",
              "      <td>Yes</td>\n",
              "    </tr>\n",
              "    <tr>\n",
              "      <th>6497</th>\n",
              "      <td>female</td>\n",
              "      <td>20</td>\n",
              "      <td>1.8</td>\n",
              "      <td>48</td>\n",
              "      <td>7.3</td>\n",
              "      <td>73.0</td>\n",
              "      <td>Yes</td>\n",
              "      <td>Yes</td>\n",
              "    </tr>\n",
              "    <tr>\n",
              "      <th>6498</th>\n",
              "      <td>male</td>\n",
              "      <td>11</td>\n",
              "      <td>2.9</td>\n",
              "      <td>49</td>\n",
              "      <td>7.7</td>\n",
              "      <td>66.0</td>\n",
              "      <td>No</td>\n",
              "      <td>Yes</td>\n",
              "    </tr>\n",
              "    <tr>\n",
              "      <th>6499</th>\n",
              "      <td>female</td>\n",
              "      <td>14</td>\n",
              "      <td>2.9</td>\n",
              "      <td>49</td>\n",
              "      <td>6.5</td>\n",
              "      <td>66.0</td>\n",
              "      <td>No</td>\n",
              "      <td>Yes</td>\n",
              "    </tr>\n",
              "  </tbody>\n",
              "</table>\n",
              "</div>\n",
              "    <div class=\"colab-df-buttons\">\n",
              "\n",
              "  <div class=\"colab-df-container\">\n",
              "    <button class=\"colab-df-convert\" onclick=\"convertToInteractive('df-aa32722e-5791-4e6b-af58-4b44d1352cfd')\"\n",
              "            title=\"Convert this dataframe to an interactive table.\"\n",
              "            style=\"display:none;\">\n",
              "\n",
              "  <svg xmlns=\"http://www.w3.org/2000/svg\" height=\"24px\" viewBox=\"0 -960 960 960\">\n",
              "    <path d=\"M120-120v-720h720v720H120Zm60-500h600v-160H180v160Zm220 220h160v-160H400v160Zm0 220h160v-160H400v160ZM180-400h160v-160H180v160Zm440 0h160v-160H620v160ZM180-180h160v-160H180v160Zm440 0h160v-160H620v160Z\"/>\n",
              "  </svg>\n",
              "    </button>\n",
              "\n",
              "  <style>\n",
              "    .colab-df-container {\n",
              "      display:flex;\n",
              "      gap: 12px;\n",
              "    }\n",
              "\n",
              "    .colab-df-convert {\n",
              "      background-color: #E8F0FE;\n",
              "      border: none;\n",
              "      border-radius: 50%;\n",
              "      cursor: pointer;\n",
              "      display: none;\n",
              "      fill: #1967D2;\n",
              "      height: 32px;\n",
              "      padding: 0 0 0 0;\n",
              "      width: 32px;\n",
              "    }\n",
              "\n",
              "    .colab-df-convert:hover {\n",
              "      background-color: #E2EBFA;\n",
              "      box-shadow: 0px 1px 2px rgba(60, 64, 67, 0.3), 0px 1px 3px 1px rgba(60, 64, 67, 0.15);\n",
              "      fill: #174EA6;\n",
              "    }\n",
              "\n",
              "    .colab-df-buttons div {\n",
              "      margin-bottom: 4px;\n",
              "    }\n",
              "\n",
              "    [theme=dark] .colab-df-convert {\n",
              "      background-color: #3B4455;\n",
              "      fill: #D2E3FC;\n",
              "    }\n",
              "\n",
              "    [theme=dark] .colab-df-convert:hover {\n",
              "      background-color: #434B5C;\n",
              "      box-shadow: 0px 1px 3px 1px rgba(0, 0, 0, 0.15);\n",
              "      filter: drop-shadow(0px 1px 2px rgba(0, 0, 0, 0.3));\n",
              "      fill: #FFFFFF;\n",
              "    }\n",
              "  </style>\n",
              "\n",
              "    <script>\n",
              "      const buttonEl =\n",
              "        document.querySelector('#df-aa32722e-5791-4e6b-af58-4b44d1352cfd button.colab-df-convert');\n",
              "      buttonEl.style.display =\n",
              "        google.colab.kernel.accessAllowed ? 'block' : 'none';\n",
              "\n",
              "      async function convertToInteractive(key) {\n",
              "        const element = document.querySelector('#df-aa32722e-5791-4e6b-af58-4b44d1352cfd');\n",
              "        const dataTable =\n",
              "          await google.colab.kernel.invokeFunction('convertToInteractive',\n",
              "                                                    [key], {});\n",
              "        if (!dataTable) return;\n",
              "\n",
              "        const docLinkHtml = 'Like what you see? Visit the ' +\n",
              "          '<a target=\"_blank\" href=https://colab.research.google.com/notebooks/data_table.ipynb>data table notebook</a>'\n",
              "          + ' to learn more about interactive tables.';\n",
              "        element.innerHTML = '';\n",
              "        dataTable['output_type'] = 'display_data';\n",
              "        await google.colab.output.renderOutput(dataTable, element);\n",
              "        const docLink = document.createElement('div');\n",
              "        docLink.innerHTML = docLinkHtml;\n",
              "        element.appendChild(docLink);\n",
              "      }\n",
              "    </script>\n",
              "  </div>\n",
              "\n",
              "\n",
              "    <div id=\"df-e3a59a53-a479-4f24-aae3-e40c57cb0503\">\n",
              "      <button class=\"colab-df-quickchart\" onclick=\"quickchart('df-e3a59a53-a479-4f24-aae3-e40c57cb0503')\"\n",
              "                title=\"Suggest charts\"\n",
              "                style=\"display:none;\">\n",
              "\n",
              "<svg xmlns=\"http://www.w3.org/2000/svg\" height=\"24px\"viewBox=\"0 0 24 24\"\n",
              "     width=\"24px\">\n",
              "    <g>\n",
              "        <path d=\"M19 3H5c-1.1 0-2 .9-2 2v14c0 1.1.9 2 2 2h14c1.1 0 2-.9 2-2V5c0-1.1-.9-2-2-2zM9 17H7v-7h2v7zm4 0h-2V7h2v10zm4 0h-2v-4h2v4z\"/>\n",
              "    </g>\n",
              "</svg>\n",
              "      </button>\n",
              "\n",
              "<style>\n",
              "  .colab-df-quickchart {\n",
              "      --bg-color: #E8F0FE;\n",
              "      --fill-color: #1967D2;\n",
              "      --hover-bg-color: #E2EBFA;\n",
              "      --hover-fill-color: #174EA6;\n",
              "      --disabled-fill-color: #AAA;\n",
              "      --disabled-bg-color: #DDD;\n",
              "  }\n",
              "\n",
              "  [theme=dark] .colab-df-quickchart {\n",
              "      --bg-color: #3B4455;\n",
              "      --fill-color: #D2E3FC;\n",
              "      --hover-bg-color: #434B5C;\n",
              "      --hover-fill-color: #FFFFFF;\n",
              "      --disabled-bg-color: #3B4455;\n",
              "      --disabled-fill-color: #666;\n",
              "  }\n",
              "\n",
              "  .colab-df-quickchart {\n",
              "    background-color: var(--bg-color);\n",
              "    border: none;\n",
              "    border-radius: 50%;\n",
              "    cursor: pointer;\n",
              "    display: none;\n",
              "    fill: var(--fill-color);\n",
              "    height: 32px;\n",
              "    padding: 0;\n",
              "    width: 32px;\n",
              "  }\n",
              "\n",
              "  .colab-df-quickchart:hover {\n",
              "    background-color: var(--hover-bg-color);\n",
              "    box-shadow: 0 1px 2px rgba(60, 64, 67, 0.3), 0 1px 3px 1px rgba(60, 64, 67, 0.15);\n",
              "    fill: var(--button-hover-fill-color);\n",
              "  }\n",
              "\n",
              "  .colab-df-quickchart-complete:disabled,\n",
              "  .colab-df-quickchart-complete:disabled:hover {\n",
              "    background-color: var(--disabled-bg-color);\n",
              "    fill: var(--disabled-fill-color);\n",
              "    box-shadow: none;\n",
              "  }\n",
              "\n",
              "  .colab-df-spinner {\n",
              "    border: 2px solid var(--fill-color);\n",
              "    border-color: transparent;\n",
              "    border-bottom-color: var(--fill-color);\n",
              "    animation:\n",
              "      spin 1s steps(1) infinite;\n",
              "  }\n",
              "\n",
              "  @keyframes spin {\n",
              "    0% {\n",
              "      border-color: transparent;\n",
              "      border-bottom-color: var(--fill-color);\n",
              "      border-left-color: var(--fill-color);\n",
              "    }\n",
              "    20% {\n",
              "      border-color: transparent;\n",
              "      border-left-color: var(--fill-color);\n",
              "      border-top-color: var(--fill-color);\n",
              "    }\n",
              "    30% {\n",
              "      border-color: transparent;\n",
              "      border-left-color: var(--fill-color);\n",
              "      border-top-color: var(--fill-color);\n",
              "      border-right-color: var(--fill-color);\n",
              "    }\n",
              "    40% {\n",
              "      border-color: transparent;\n",
              "      border-right-color: var(--fill-color);\n",
              "      border-top-color: var(--fill-color);\n",
              "    }\n",
              "    60% {\n",
              "      border-color: transparent;\n",
              "      border-right-color: var(--fill-color);\n",
              "    }\n",
              "    80% {\n",
              "      border-color: transparent;\n",
              "      border-right-color: var(--fill-color);\n",
              "      border-bottom-color: var(--fill-color);\n",
              "    }\n",
              "    90% {\n",
              "      border-color: transparent;\n",
              "      border-bottom-color: var(--fill-color);\n",
              "    }\n",
              "  }\n",
              "</style>\n",
              "\n",
              "      <script>\n",
              "        async function quickchart(key) {\n",
              "          const quickchartButtonEl =\n",
              "            document.querySelector('#' + key + ' button');\n",
              "          quickchartButtonEl.disabled = true;  // To prevent multiple clicks.\n",
              "          quickchartButtonEl.classList.add('colab-df-spinner');\n",
              "          try {\n",
              "            const charts = await google.colab.kernel.invokeFunction(\n",
              "                'suggestCharts', [key], {});\n",
              "          } catch (error) {\n",
              "            console.error('Error during call to suggestCharts:', error);\n",
              "          }\n",
              "          quickchartButtonEl.classList.remove('colab-df-spinner');\n",
              "          quickchartButtonEl.classList.add('colab-df-quickchart-complete');\n",
              "        }\n",
              "        (() => {\n",
              "          let quickchartButtonEl =\n",
              "            document.querySelector('#df-e3a59a53-a479-4f24-aae3-e40c57cb0503 button');\n",
              "          quickchartButtonEl.style.display =\n",
              "            google.colab.kernel.accessAllowed ? 'block' : 'none';\n",
              "        })();\n",
              "      </script>\n",
              "    </div>\n",
              "\n",
              "    </div>\n",
              "  </div>\n"
            ],
            "application/vnd.google.colaboratory.intrinsic+json": {
              "type": "dataframe",
              "summary": "{\n  \"name\": \"df\",\n  \"rows\": 5,\n  \"fields\": [\n    {\n      \"column\": \"Gender\",\n      \"properties\": {\n        \"dtype\": \"category\",\n        \"num_unique_values\": 2,\n        \"samples\": [\n          \"female\",\n          \"male\"\n        ],\n        \"semantic_type\": \"\",\n        \"description\": \"\"\n      }\n    },\n    {\n      \"column\": \"Age\",\n      \"properties\": {\n        \"dtype\": \"number\",\n        \"std\": 18,\n        \"min\": 9,\n        \"max\": 53,\n        \"num_unique_values\": 5,\n        \"samples\": [\n          9,\n          14\n        ],\n        \"semantic_type\": \"\",\n        \"description\": \"\"\n      }\n    },\n    {\n      \"column\": \"Birth Weight\",\n      \"properties\": {\n        \"dtype\": \"number\",\n        \"std\": 0.49193495504995366,\n        \"min\": 1.8,\n        \"max\": 2.9,\n        \"num_unique_values\": 2,\n        \"samples\": [\n          1.8,\n          2.9\n        ],\n        \"semantic_type\": \"\",\n        \"description\": \"\"\n      }\n    },\n    {\n      \"column\": \"Birth Length\",\n      \"properties\": {\n        \"dtype\": \"number\",\n        \"std\": 0,\n        \"min\": 48,\n        \"max\": 50,\n        \"num_unique_values\": 3,\n        \"samples\": [\n          49,\n          50\n        ],\n        \"semantic_type\": \"\",\n        \"description\": \"\"\n      }\n    },\n    {\n      \"column\": \"Body Weight\",\n      \"properties\": {\n        \"dtype\": \"number\",\n        \"std\": 3.515394714679989,\n        \"min\": 6.5,\n        \"max\": 15.0,\n        \"num_unique_values\": 4,\n        \"samples\": [\n          7.3,\n          6.5\n        ],\n        \"semantic_type\": \"\",\n        \"description\": \"\"\n      }\n    },\n    {\n      \"column\": \"Body Length\",\n      \"properties\": {\n        \"dtype\": \"number\",\n        \"std\": 13.66747965061591,\n        \"min\": 62.0,\n        \"max\": 96.0,\n        \"num_unique_values\": 4,\n        \"samples\": [\n          62.0,\n          66.0\n        ],\n        \"semantic_type\": \"\",\n        \"description\": \"\"\n      }\n    },\n    {\n      \"column\": \"Breastfeeding\",\n      \"properties\": {\n        \"dtype\": \"category\",\n        \"num_unique_values\": 2,\n        \"samples\": [\n          \"Yes\",\n          \"No\"\n        ],\n        \"semantic_type\": \"\",\n        \"description\": \"\"\n      }\n    },\n    {\n      \"column\": \"Stunting\",\n      \"properties\": {\n        \"dtype\": \"category\",\n        \"num_unique_values\": 1,\n        \"samples\": [\n          \"Yes\"\n        ],\n        \"semantic_type\": \"\",\n        \"description\": \"\"\n      }\n    }\n  ]\n}"
            }
          },
          "metadata": {},
          "execution_count": 391
        }
      ]
    },
    {
      "cell_type": "markdown",
      "source": [
        "### Melihat dimensi"
      ],
      "metadata": {
        "id": "RIwM2HgodLKC"
      }
    },
    {
      "cell_type": "code",
      "source": [
        "df.shape"
      ],
      "metadata": {
        "colab": {
          "base_uri": "https://localhost:8080/"
        },
        "id": "briRQIh7dmuH",
        "outputId": "a15e110a-d912-4fc0-b450-25023fa147f3"
      },
      "execution_count": 392,
      "outputs": [
        {
          "output_type": "execute_result",
          "data": {
            "text/plain": [
              "(6500, 8)"
            ]
          },
          "metadata": {},
          "execution_count": 392
        }
      ]
    },
    {
      "cell_type": "markdown",
      "source": [
        "### Melihat informasi dataset"
      ],
      "metadata": {
        "id": "KqDsX082drj_"
      }
    },
    {
      "cell_type": "code",
      "source": [
        "# Melihat Informasi Dataset\n",
        "df.info()"
      ],
      "metadata": {
        "id": "PVdRI88Mj6Ji",
        "colab": {
          "base_uri": "https://localhost:8080/"
        },
        "outputId": "deda8de6-49fd-43c7-bea3-b170ac85f441"
      },
      "execution_count": 393,
      "outputs": [
        {
          "output_type": "stream",
          "name": "stdout",
          "text": [
            "<class 'pandas.core.frame.DataFrame'>\n",
            "RangeIndex: 6500 entries, 0 to 6499\n",
            "Data columns (total 8 columns):\n",
            " #   Column         Non-Null Count  Dtype  \n",
            "---  ------         --------------  -----  \n",
            " 0   Gender         6500 non-null   object \n",
            " 1   Age            6500 non-null   int64  \n",
            " 2   Birth Weight   6500 non-null   float64\n",
            " 3   Birth Length   6500 non-null   int64  \n",
            " 4   Body Weight    6500 non-null   float64\n",
            " 5   Body Length    6500 non-null   float64\n",
            " 6   Breastfeeding  6500 non-null   object \n",
            " 7   Stunting       6500 non-null   object \n",
            "dtypes: float64(3), int64(2), object(3)\n",
            "memory usage: 406.4+ KB\n"
          ]
        }
      ]
    },
    {
      "cell_type": "markdown",
      "source": [
        "### Melihat deskripsi statistik"
      ],
      "metadata": {
        "id": "KKbCcIqfQoWM"
      }
    },
    {
      "cell_type": "code",
      "source": [
        "# Melihat Deskripsi statistik\n",
        "df.describe()"
      ],
      "metadata": {
        "id": "LxENhQrfj8p2",
        "colab": {
          "base_uri": "https://localhost:8080/",
          "height": 300
        },
        "outputId": "9f940d9c-3620-418e-e6c9-88b8f8243ed0"
      },
      "execution_count": 394,
      "outputs": [
        {
          "output_type": "execute_result",
          "data": {
            "text/plain": [
              "               Age  Birth Weight  Birth Length  Body Weight  Body Length\n",
              "count  6500.000000   6500.000000   6500.000000  6500.000000  6500.000000\n",
              "mean     25.222000      2.985092     49.136923     9.809769    79.389785\n",
              "std      16.961179      0.349956      1.258554     3.459952    14.073021\n",
              "min       1.000000      1.800000     42.000000     2.900000    53.000000\n",
              "25%      11.000000      2.900000     49.000000     7.100000    68.900000\n",
              "50%      20.000000      3.000000     49.000000     9.000000    77.000000\n",
              "75%      39.000000      3.200000     50.000000    12.000000    92.000000\n",
              "max      59.000000      4.000000     53.000000    24.500000   111.000000"
            ],
            "text/html": [
              "\n",
              "  <div id=\"df-972c2342-a717-4304-a716-e831034a0d90\" class=\"colab-df-container\">\n",
              "    <div>\n",
              "<style scoped>\n",
              "    .dataframe tbody tr th:only-of-type {\n",
              "        vertical-align: middle;\n",
              "    }\n",
              "\n",
              "    .dataframe tbody tr th {\n",
              "        vertical-align: top;\n",
              "    }\n",
              "\n",
              "    .dataframe thead th {\n",
              "        text-align: right;\n",
              "    }\n",
              "</style>\n",
              "<table border=\"1\" class=\"dataframe\">\n",
              "  <thead>\n",
              "    <tr style=\"text-align: right;\">\n",
              "      <th></th>\n",
              "      <th>Age</th>\n",
              "      <th>Birth Weight</th>\n",
              "      <th>Birth Length</th>\n",
              "      <th>Body Weight</th>\n",
              "      <th>Body Length</th>\n",
              "    </tr>\n",
              "  </thead>\n",
              "  <tbody>\n",
              "    <tr>\n",
              "      <th>count</th>\n",
              "      <td>6500.000000</td>\n",
              "      <td>6500.000000</td>\n",
              "      <td>6500.000000</td>\n",
              "      <td>6500.000000</td>\n",
              "      <td>6500.000000</td>\n",
              "    </tr>\n",
              "    <tr>\n",
              "      <th>mean</th>\n",
              "      <td>25.222000</td>\n",
              "      <td>2.985092</td>\n",
              "      <td>49.136923</td>\n",
              "      <td>9.809769</td>\n",
              "      <td>79.389785</td>\n",
              "    </tr>\n",
              "    <tr>\n",
              "      <th>std</th>\n",
              "      <td>16.961179</td>\n",
              "      <td>0.349956</td>\n",
              "      <td>1.258554</td>\n",
              "      <td>3.459952</td>\n",
              "      <td>14.073021</td>\n",
              "    </tr>\n",
              "    <tr>\n",
              "      <th>min</th>\n",
              "      <td>1.000000</td>\n",
              "      <td>1.800000</td>\n",
              "      <td>42.000000</td>\n",
              "      <td>2.900000</td>\n",
              "      <td>53.000000</td>\n",
              "    </tr>\n",
              "    <tr>\n",
              "      <th>25%</th>\n",
              "      <td>11.000000</td>\n",
              "      <td>2.900000</td>\n",
              "      <td>49.000000</td>\n",
              "      <td>7.100000</td>\n",
              "      <td>68.900000</td>\n",
              "    </tr>\n",
              "    <tr>\n",
              "      <th>50%</th>\n",
              "      <td>20.000000</td>\n",
              "      <td>3.000000</td>\n",
              "      <td>49.000000</td>\n",
              "      <td>9.000000</td>\n",
              "      <td>77.000000</td>\n",
              "    </tr>\n",
              "    <tr>\n",
              "      <th>75%</th>\n",
              "      <td>39.000000</td>\n",
              "      <td>3.200000</td>\n",
              "      <td>50.000000</td>\n",
              "      <td>12.000000</td>\n",
              "      <td>92.000000</td>\n",
              "    </tr>\n",
              "    <tr>\n",
              "      <th>max</th>\n",
              "      <td>59.000000</td>\n",
              "      <td>4.000000</td>\n",
              "      <td>53.000000</td>\n",
              "      <td>24.500000</td>\n",
              "      <td>111.000000</td>\n",
              "    </tr>\n",
              "  </tbody>\n",
              "</table>\n",
              "</div>\n",
              "    <div class=\"colab-df-buttons\">\n",
              "\n",
              "  <div class=\"colab-df-container\">\n",
              "    <button class=\"colab-df-convert\" onclick=\"convertToInteractive('df-972c2342-a717-4304-a716-e831034a0d90')\"\n",
              "            title=\"Convert this dataframe to an interactive table.\"\n",
              "            style=\"display:none;\">\n",
              "\n",
              "  <svg xmlns=\"http://www.w3.org/2000/svg\" height=\"24px\" viewBox=\"0 -960 960 960\">\n",
              "    <path d=\"M120-120v-720h720v720H120Zm60-500h600v-160H180v160Zm220 220h160v-160H400v160Zm0 220h160v-160H400v160ZM180-400h160v-160H180v160Zm440 0h160v-160H620v160ZM180-180h160v-160H180v160Zm440 0h160v-160H620v160Z\"/>\n",
              "  </svg>\n",
              "    </button>\n",
              "\n",
              "  <style>\n",
              "    .colab-df-container {\n",
              "      display:flex;\n",
              "      gap: 12px;\n",
              "    }\n",
              "\n",
              "    .colab-df-convert {\n",
              "      background-color: #E8F0FE;\n",
              "      border: none;\n",
              "      border-radius: 50%;\n",
              "      cursor: pointer;\n",
              "      display: none;\n",
              "      fill: #1967D2;\n",
              "      height: 32px;\n",
              "      padding: 0 0 0 0;\n",
              "      width: 32px;\n",
              "    }\n",
              "\n",
              "    .colab-df-convert:hover {\n",
              "      background-color: #E2EBFA;\n",
              "      box-shadow: 0px 1px 2px rgba(60, 64, 67, 0.3), 0px 1px 3px 1px rgba(60, 64, 67, 0.15);\n",
              "      fill: #174EA6;\n",
              "    }\n",
              "\n",
              "    .colab-df-buttons div {\n",
              "      margin-bottom: 4px;\n",
              "    }\n",
              "\n",
              "    [theme=dark] .colab-df-convert {\n",
              "      background-color: #3B4455;\n",
              "      fill: #D2E3FC;\n",
              "    }\n",
              "\n",
              "    [theme=dark] .colab-df-convert:hover {\n",
              "      background-color: #434B5C;\n",
              "      box-shadow: 0px 1px 3px 1px rgba(0, 0, 0, 0.15);\n",
              "      filter: drop-shadow(0px 1px 2px rgba(0, 0, 0, 0.3));\n",
              "      fill: #FFFFFF;\n",
              "    }\n",
              "  </style>\n",
              "\n",
              "    <script>\n",
              "      const buttonEl =\n",
              "        document.querySelector('#df-972c2342-a717-4304-a716-e831034a0d90 button.colab-df-convert');\n",
              "      buttonEl.style.display =\n",
              "        google.colab.kernel.accessAllowed ? 'block' : 'none';\n",
              "\n",
              "      async function convertToInteractive(key) {\n",
              "        const element = document.querySelector('#df-972c2342-a717-4304-a716-e831034a0d90');\n",
              "        const dataTable =\n",
              "          await google.colab.kernel.invokeFunction('convertToInteractive',\n",
              "                                                    [key], {});\n",
              "        if (!dataTable) return;\n",
              "\n",
              "        const docLinkHtml = 'Like what you see? Visit the ' +\n",
              "          '<a target=\"_blank\" href=https://colab.research.google.com/notebooks/data_table.ipynb>data table notebook</a>'\n",
              "          + ' to learn more about interactive tables.';\n",
              "        element.innerHTML = '';\n",
              "        dataTable['output_type'] = 'display_data';\n",
              "        await google.colab.output.renderOutput(dataTable, element);\n",
              "        const docLink = document.createElement('div');\n",
              "        docLink.innerHTML = docLinkHtml;\n",
              "        element.appendChild(docLink);\n",
              "      }\n",
              "    </script>\n",
              "  </div>\n",
              "\n",
              "\n",
              "    <div id=\"df-a41e23bf-fcd9-45b9-a76e-7abeeb68d064\">\n",
              "      <button class=\"colab-df-quickchart\" onclick=\"quickchart('df-a41e23bf-fcd9-45b9-a76e-7abeeb68d064')\"\n",
              "                title=\"Suggest charts\"\n",
              "                style=\"display:none;\">\n",
              "\n",
              "<svg xmlns=\"http://www.w3.org/2000/svg\" height=\"24px\"viewBox=\"0 0 24 24\"\n",
              "     width=\"24px\">\n",
              "    <g>\n",
              "        <path d=\"M19 3H5c-1.1 0-2 .9-2 2v14c0 1.1.9 2 2 2h14c1.1 0 2-.9 2-2V5c0-1.1-.9-2-2-2zM9 17H7v-7h2v7zm4 0h-2V7h2v10zm4 0h-2v-4h2v4z\"/>\n",
              "    </g>\n",
              "</svg>\n",
              "      </button>\n",
              "\n",
              "<style>\n",
              "  .colab-df-quickchart {\n",
              "      --bg-color: #E8F0FE;\n",
              "      --fill-color: #1967D2;\n",
              "      --hover-bg-color: #E2EBFA;\n",
              "      --hover-fill-color: #174EA6;\n",
              "      --disabled-fill-color: #AAA;\n",
              "      --disabled-bg-color: #DDD;\n",
              "  }\n",
              "\n",
              "  [theme=dark] .colab-df-quickchart {\n",
              "      --bg-color: #3B4455;\n",
              "      --fill-color: #D2E3FC;\n",
              "      --hover-bg-color: #434B5C;\n",
              "      --hover-fill-color: #FFFFFF;\n",
              "      --disabled-bg-color: #3B4455;\n",
              "      --disabled-fill-color: #666;\n",
              "  }\n",
              "\n",
              "  .colab-df-quickchart {\n",
              "    background-color: var(--bg-color);\n",
              "    border: none;\n",
              "    border-radius: 50%;\n",
              "    cursor: pointer;\n",
              "    display: none;\n",
              "    fill: var(--fill-color);\n",
              "    height: 32px;\n",
              "    padding: 0;\n",
              "    width: 32px;\n",
              "  }\n",
              "\n",
              "  .colab-df-quickchart:hover {\n",
              "    background-color: var(--hover-bg-color);\n",
              "    box-shadow: 0 1px 2px rgba(60, 64, 67, 0.3), 0 1px 3px 1px rgba(60, 64, 67, 0.15);\n",
              "    fill: var(--button-hover-fill-color);\n",
              "  }\n",
              "\n",
              "  .colab-df-quickchart-complete:disabled,\n",
              "  .colab-df-quickchart-complete:disabled:hover {\n",
              "    background-color: var(--disabled-bg-color);\n",
              "    fill: var(--disabled-fill-color);\n",
              "    box-shadow: none;\n",
              "  }\n",
              "\n",
              "  .colab-df-spinner {\n",
              "    border: 2px solid var(--fill-color);\n",
              "    border-color: transparent;\n",
              "    border-bottom-color: var(--fill-color);\n",
              "    animation:\n",
              "      spin 1s steps(1) infinite;\n",
              "  }\n",
              "\n",
              "  @keyframes spin {\n",
              "    0% {\n",
              "      border-color: transparent;\n",
              "      border-bottom-color: var(--fill-color);\n",
              "      border-left-color: var(--fill-color);\n",
              "    }\n",
              "    20% {\n",
              "      border-color: transparent;\n",
              "      border-left-color: var(--fill-color);\n",
              "      border-top-color: var(--fill-color);\n",
              "    }\n",
              "    30% {\n",
              "      border-color: transparent;\n",
              "      border-left-color: var(--fill-color);\n",
              "      border-top-color: var(--fill-color);\n",
              "      border-right-color: var(--fill-color);\n",
              "    }\n",
              "    40% {\n",
              "      border-color: transparent;\n",
              "      border-right-color: var(--fill-color);\n",
              "      border-top-color: var(--fill-color);\n",
              "    }\n",
              "    60% {\n",
              "      border-color: transparent;\n",
              "      border-right-color: var(--fill-color);\n",
              "    }\n",
              "    80% {\n",
              "      border-color: transparent;\n",
              "      border-right-color: var(--fill-color);\n",
              "      border-bottom-color: var(--fill-color);\n",
              "    }\n",
              "    90% {\n",
              "      border-color: transparent;\n",
              "      border-bottom-color: var(--fill-color);\n",
              "    }\n",
              "  }\n",
              "</style>\n",
              "\n",
              "      <script>\n",
              "        async function quickchart(key) {\n",
              "          const quickchartButtonEl =\n",
              "            document.querySelector('#' + key + ' button');\n",
              "          quickchartButtonEl.disabled = true;  // To prevent multiple clicks.\n",
              "          quickchartButtonEl.classList.add('colab-df-spinner');\n",
              "          try {\n",
              "            const charts = await google.colab.kernel.invokeFunction(\n",
              "                'suggestCharts', [key], {});\n",
              "          } catch (error) {\n",
              "            console.error('Error during call to suggestCharts:', error);\n",
              "          }\n",
              "          quickchartButtonEl.classList.remove('colab-df-spinner');\n",
              "          quickchartButtonEl.classList.add('colab-df-quickchart-complete');\n",
              "        }\n",
              "        (() => {\n",
              "          let quickchartButtonEl =\n",
              "            document.querySelector('#df-a41e23bf-fcd9-45b9-a76e-7abeeb68d064 button');\n",
              "          quickchartButtonEl.style.display =\n",
              "            google.colab.kernel.accessAllowed ? 'block' : 'none';\n",
              "        })();\n",
              "      </script>\n",
              "    </div>\n",
              "\n",
              "    </div>\n",
              "  </div>\n"
            ],
            "application/vnd.google.colaboratory.intrinsic+json": {
              "type": "dataframe",
              "summary": "{\n  \"name\": \"df\",\n  \"rows\": 8,\n  \"fields\": [\n    {\n      \"column\": \"Age\",\n      \"properties\": {\n        \"dtype\": \"number\",\n        \"std\": 2289.4695045001854,\n        \"min\": 1.0,\n        \"max\": 6500.0,\n        \"num_unique_values\": 8,\n        \"samples\": [\n          25.222,\n          20.0,\n          6500.0\n        ],\n        \"semantic_type\": \"\",\n        \"description\": \"\"\n      }\n    },\n    {\n      \"column\": \"Birth Weight\",\n      \"properties\": {\n        \"dtype\": \"number\",\n        \"std\": 2297.1762916925973,\n        \"min\": 0.3499555825717154,\n        \"max\": 6500.0,\n        \"num_unique_values\": 8,\n        \"samples\": [\n          2.9850923076923075,\n          3.0,\n          6500.0\n        ],\n        \"semantic_type\": \"\",\n        \"description\": \"\"\n      }\n    },\n    {\n      \"column\": \"Birth Length\",\n      \"properties\": {\n        \"dtype\": \"number\",\n        \"std\": 2283.340699759939,\n        \"min\": 1.2585536520964182,\n        \"max\": 6500.0,\n        \"num_unique_values\": 7,\n        \"samples\": [\n          6500.0,\n          49.136923076923075,\n          50.0\n        ],\n        \"semantic_type\": \"\",\n        \"description\": \"\"\n      }\n    },\n    {\n      \"column\": \"Body Weight\",\n      \"properties\": {\n        \"dtype\": \"number\",\n        \"std\": 2294.6335006393606,\n        \"min\": 2.9,\n        \"max\": 6500.0,\n        \"num_unique_values\": 8,\n        \"samples\": [\n          9.80976923076923,\n          9.0,\n          6500.0\n        ],\n        \"semantic_type\": \"\",\n        \"description\": \"\"\n      }\n    },\n    {\n      \"column\": \"Body Length\",\n      \"properties\": {\n        \"dtype\": \"number\",\n        \"std\": 2273.257052900804,\n        \"min\": 14.073021061155655,\n        \"max\": 6500.0,\n        \"num_unique_values\": 8,\n        \"samples\": [\n          79.38978461538461,\n          77.0,\n          6500.0\n        ],\n        \"semantic_type\": \"\",\n        \"description\": \"\"\n      }\n    }\n  ]\n}"
            }
          },
          "metadata": {},
          "execution_count": 394
        }
      ]
    },
    {
      "cell_type": "markdown",
      "source": [
        "### Melihat persebaran data"
      ],
      "metadata": {
        "id": "th6xBQjaQtj0"
      }
    },
    {
      "cell_type": "code",
      "source": [
        "# menampilkan diagram histplot untuk telaah semua feature\n",
        "for col in ['Age', 'Birth Weight', 'Birth Length', 'Body Weight', 'Body Length']:\n",
        "    plt.figure(figsize=(6,4))\n",
        "    sns.histplot(df[col], kde=True)\n",
        "    plt.title(f\"Distribusi {col}\")\n",
        "    plt.show()\n"
      ],
      "metadata": {
        "colab": {
          "base_uri": "https://localhost:8080/",
          "height": 1000
        },
        "id": "aKq7wuHTLTKv",
        "outputId": "7ebff3cb-908a-47d1-c6d8-76b50c71b9ae"
      },
      "execution_count": 395,
      "outputs": [
        {
          "output_type": "display_data",
          "data": {
            "text/plain": [
              "<Figure size 600x400 with 1 Axes>"
            ],
            "image/png": "[encoded data removed]"
          },
          "metadata": {}
        },
        {
          "output_type": "display_data",
          "data": {
            "text/plain": [
              "<Figure size 600x400 with 1 Axes>"
            ],
            "image/png": "[encoded data removed]"
          },
          "metadata": {}
        },
        {
          "output_type": "display_data",
          "data": {
            "text/plain": [
              "<Figure size 600x400 with 1 Axes>"
            ],
            "image/png": "[encoded data removed]"
          },
          "metadata": {}
        },
        {
          "output_type": "display_data",
          "data": {
            "text/plain": [
              "<Figure size 600x400 with 1 Axes>"
            ],
            "image/png": "[encoded data removed]"
          },
          "metadata": {}
        },
        {
          "output_type": "display_data",
          "data": {
            "text/plain": [
              "<Figure size 600x400 with 1 Axes>"
            ],
            "image/png": "[encoded data removed]"
          },
          "metadata": {}
        }
      ]
    },
    {
      "cell_type": "code",
      "source": [
        "# membuat fungsi untuk melakukan observasi pada dataset\n",
        "def grab_col_names(dataframe, cat_th = 10, car_th = 20): #  memisahkan kolom dalam dataset berdasarkan tipe dan karakteristiknya.\n",
        "\n",
        "    cat_cols = [col for col in dataframe.columns if str(dataframe[col].dtypes) in [\"category\", \"object\", \"bool\"]] # kolom kategorikal (tipe \"category\", \"object\", \"bool\", atau numerik dengan unique values < cat_th).\n",
        "    num_but_cat = [col for col in dataframe.columns if str(dataframe[col].dtypes) in [\"int64\", \"float64\"] and dataframe[col].nunique() < cat_th] # kolom numerik yang bertindak seperti kategorikal (berdasarkan jumlah unique values).\n",
        "    cat_but_car = [col for col in dataframe.columns if str(dataframe[col].dtypes) in [\"category\", \"object\"] and dataframe[col].nunique() > car_th] # kolom kategorikal dengan unique values > car_th (high cardinality).\n",
        "\n",
        "    cat_cols = cat_cols + num_but_cat\n",
        "    cat_cols = [col for col in cat_cols if col not in cat_but_car]\n",
        "\n",
        "    # kolom numerik murni (int64, float64) yang bukan kategorikal.\n",
        "    num_cols = [col for col in dataframe.columns if str(dataframe[col].dtypes) in [\"int64\", \"float64\"]]\n",
        "    num_cols = [col for col in num_cols if col not in cat_cols]\n",
        "\n",
        "    print(f\"Jumlah observasi: {dataframe.shape[0]}\")\n",
        "    print(f\"Jumlah variabel: {dataframe.shape[1]}\")\n",
        "    print(f\"Kolom kategorikal: {len(cat_cols)}\")\n",
        "    print(f\"Kolom Numerik: {len(num_cols)}\")\n",
        "    print(f\"Kategori tapi kardinal: {len(cat_but_car)}\")\n",
        "    print(f\"Numerik tapi kategorikal: {len(num_but_cat)}\")\n",
        "\n",
        "    # mengembalikan daftar kolom yang dikelompokkan berdasarkan tipe (cat_cols, num_cols, cat_but_car).\n",
        "    return cat_cols, num_cols, cat_but_car"
      ],
      "metadata": {
        "id": "ket_1X_XLZhS"
      },
      "execution_count": 396,
      "outputs": []
    },
    {
      "cell_type": "code",
      "source": [
        "cat_cols, num_cols, cat_but_car = grab_col_names(df)"
      ],
      "metadata": {
        "colab": {
          "base_uri": "https://localhost:8080/"
        },
        "id": "QDVTPVupLcPF",
        "outputId": "b24cbb38-710f-47f0-a3f1-1c62a82a79c0"
      },
      "execution_count": 397,
      "outputs": [
        {
          "output_type": "stream",
          "name": "stdout",
          "text": [
            "Jumlah observasi: 6500\n",
            "Jumlah variabel: 8\n",
            "Kolom kategorikal: 3\n",
            "Kolom Numerik: 5\n",
            "Kategori tapi kardinal: 0\n",
            "Numerik tapi kategorikal: 0\n"
          ]
        }
      ]
    },
    {
      "cell_type": "markdown",
      "source": [
        "- Nominal Feature"
      ],
      "metadata": {
        "id": "OxV0fHhY75Am"
      }
    },
    {
      "cell_type": "code",
      "source": [
        "# Visualisasikan fitur nominal / kategorikal misal (menggunakan countplot)\n",
        "for col in cat_cols:\n",
        "    countplot = sns.countplot(data=df, x=col)\n",
        "    plt.title(f'Countplot of {col}')\n",
        "    plt.show()"
      ],
      "metadata": {
        "id": "_GoG3m8JeHkf",
        "colab": {
          "base_uri": "https://localhost:8080/",
          "height": 1000
        },
        "outputId": "1b3392ad-666e-4dbe-fd77-2dfc58ded51f"
      },
      "execution_count": 398,
      "outputs": [
        {
          "output_type": "display_data",
          "data": {
            "text/plain": [
              "<Figure size 640x480 with 1 Axes>"
            ],
            "image/png": "[encoded data removed]"
          },
          "metadata": {}
        },
        {
          "output_type": "display_data",
          "data": {
            "text/plain": [
              "<Figure size 640x480 with 1 Axes>"
            ],
            "image/png": "[encoded data removed]"
          },
          "metadata": {}
        },
        {
          "output_type": "display_data",
          "data": {
            "text/plain": [
              "<Figure size 640x480 with 1 Axes>"
            ],
            "image/png": "[encoded data removed]"
          },
          "metadata": {}
        }
      ]
    },
    {
      "cell_type": "markdown",
      "source": [
        "- Continous features"
      ],
      "metadata": {
        "id": "CJFXAG3J7-D6"
      }
    },
    {
      "cell_type": "code",
      "source": [
        "# Visualisasikan fitur numerik continous (misal : histplot)\n",
        "for col in num_cols:\n",
        "    histplot = sns.histplot(data=df, x=col)\n",
        "    plt.title(f'Histogram of {col}')\n",
        "    plt.show()"
      ],
      "metadata": {
        "id": "vLcARCtveZpb",
        "colab": {
          "base_uri": "https://localhost:8080/",
          "height": 1000
        },
        "outputId": "eca7d06c-8dfe-429e-83b4-7fb56f9b078a"
      },
      "execution_count": 399,
      "outputs": [
        {
          "output_type": "display_data",
          "data": {
            "text/plain": [
              "<Figure size 640x480 with 1 Axes>"
            ],
            "image/png": "[encoded data removed]"
          },
          "metadata": {}
        },
        {
          "output_type": "display_data",
          "data": {
            "text/plain": [
              "<Figure size 640x480 with 1 Axes>"
            ],
            "image/png": "[encoded data removed]"
          },
          "metadata": {}
        },
        {
          "output_type": "display_data",
          "data": {
            "text/plain": [
              "<Figure size 640x480 with 1 Axes>"
            ],
            "image/png": "[encoded data removed]"
          },
          "metadata": {}
        },
        {
          "output_type": "display_data",
          "data": {
            "text/plain": [
              "<Figure size 640x480 with 1 Axes>"
            ],
            "image/png": "[encoded data removed]"
          },
          "metadata": {}
        },
        {
          "output_type": "display_data",
          "data": {
            "text/plain": [
              "<Figure size 640x480 with 1 Axes>"
            ],
            "image/png": "[encoded data removed]"
          },
          "metadata": {}
        }
      ]
    },
    {
      "cell_type": "markdown",
      "source": [
        "## BAB 3 – memvalidasi data"
      ],
      "metadata": {
        "id": "HlepCGhNervb"
      }
    },
    {
      "cell_type": "markdown",
      "source": [
        "### Memeriksa nilai kosong (missing value)"
      ],
      "metadata": {
        "id": "aMTKkUKsQ1l1"
      }
    },
    {
      "cell_type": "code",
      "source": [
        "# Melihat Nilai null / missing value\n",
        "df.isnull().sum()"
      ],
      "metadata": {
        "id": "bTkwAPXZjhwX",
        "colab": {
          "base_uri": "https://localhost:8080/",
          "height": 335
        },
        "outputId": "092d013a-bde3-4b05-b4ad-877f9d171438"
      },
      "execution_count": 400,
      "outputs": [
        {
          "output_type": "execute_result",
          "data": {
            "text/plain": [
              "Gender           0\n",
              "Age              0\n",
              "Birth Weight     0\n",
              "Birth Length     0\n",
              "Body Weight      0\n",
              "Body Length      0\n",
              "Breastfeeding    0\n",
              "Stunting         0\n",
              "dtype: int64"
            ],
            "text/html": [
              "<div>\n",
              "<style scoped>\n",
              "    .dataframe tbody tr th:only-of-type {\n",
              "        vertical-align: middle;\n",
              "    }\n",
              "\n",
              "    .dataframe tbody tr th {\n",
              "        vertical-align: top;\n",
              "    }\n",
              "\n",
              "    .dataframe thead th {\n",
              "        text-align: right;\n",
              "    }\n",
              "</style>\n",
              "<table border=\"1\" class=\"dataframe\">\n",
              "  <thead>\n",
              "    <tr style=\"text-align: right;\">\n",
              "      <th></th>\n",
              "      <th>0</th>\n",
              "    </tr>\n",
              "  </thead>\n",
              "  <tbody>\n",
              "    <tr>\n",
              "      <th>Gender</th>\n",
              "      <td>0</td>\n",
              "    </tr>\n",
              "    <tr>\n",
              "      <th>Age</th>\n",
              "      <td>0</td>\n",
              "    </tr>\n",
              "    <tr>\n",
              "      <th>Birth Weight</th>\n",
              "      <td>0</td>\n",
              "    </tr>\n",
              "    <tr>\n",
              "      <th>Birth Length</th>\n",
              "      <td>0</td>\n",
              "    </tr>\n",
              "    <tr>\n",
              "      <th>Body Weight</th>\n",
              "      <td>0</td>\n",
              "    </tr>\n",
              "    <tr>\n",
              "      <th>Body Length</th>\n",
              "      <td>0</td>\n",
              "    </tr>\n",
              "    <tr>\n",
              "      <th>Breastfeeding</th>\n",
              "      <td>0</td>\n",
              "    </tr>\n",
              "    <tr>\n",
              "      <th>Stunting</th>\n",
              "      <td>0</td>\n",
              "    </tr>\n",
              "  </tbody>\n",
              "</table>\n",
              "</div><br><label><b>dtype:</b> int64</label>"
            ]
          },
          "metadata": {},
          "execution_count": 400
        }
      ]
    },
    {
      "cell_type": "markdown",
      "source": [
        "### Memeriksa duplikat data"
      ],
      "metadata": {
        "id": "yVZxft5xQ28s"
      }
    },
    {
      "cell_type": "code",
      "source": [
        "# Melihat Data duplikat\n",
        "df.duplicated().sum()"
      ],
      "metadata": {
        "id": "uxjhiIESjlFk",
        "colab": {
          "base_uri": "https://localhost:8080/"
        },
        "outputId": "6abd36ed-64ec-4cce-c645-a3e4f12c3075"
      },
      "execution_count": 401,
      "outputs": [
        {
          "output_type": "execute_result",
          "data": {
            "text/plain": [
              "np.int64(5525)"
            ]
          },
          "metadata": {},
          "execution_count": 401
        }
      ]
    },
    {
      "cell_type": "code",
      "source": [
        "print(\"Duplikat:\", df.duplicated().sum())"
      ],
      "metadata": {
        "colab": {
          "base_uri": "https://localhost:8080/"
        },
        "id": "MrnQ3voTLzzU",
        "outputId": "6bd622ed-42cd-476a-c2e2-dd8e30c68676"
      },
      "execution_count": 402,
      "outputs": [
        {
          "output_type": "stream",
          "name": "stdout",
          "text": [
            "Duplikat: 5525\n"
          ]
        }
      ]
    },
    {
      "cell_type": "code",
      "source": [
        "\n",
        "# Melihat Data duplikat\n",
        "df.duplicated().sum()\n",
        "df[df.duplicated(keep=False)]"
      ],
      "metadata": {
        "colab": {
          "base_uri": "https://localhost:8080/",
          "height": 441
        },
        "id": "rjQ6pqdcRUm9",
        "outputId": "6d5f6f08-d051-48d7-f4b8-955b69e112f4"
      },
      "execution_count": 403,
      "outputs": [
        {
          "output_type": "execute_result",
          "data": {
            "text/plain": [
              "      Gender  Age  Birth Weight  Birth Length  Body Weight  Body Length  \\\n",
              "1     female   20           3.3            49         11.1         80.5   \n",
              "2       male    4           2.8            48          6.5         63.0   \n",
              "4       male   32           3.2            49         11.0         88.7   \n",
              "6       male    2           2.9            49          8.5         74.2   \n",
              "7       male   33           2.5            49         10.0         91.5   \n",
              "...      ...  ...           ...           ...          ...          ...   \n",
              "6495    male   53           2.9            49         15.0         96.0   \n",
              "6496    male    9           2.9            50          7.3         62.0   \n",
              "6497  female   20           1.8            48          7.3         73.0   \n",
              "6498    male   11           2.9            49          7.7         66.0   \n",
              "6499  female   14           2.9            49          6.5         66.0   \n",
              "\n",
              "     Breastfeeding Stunting  \n",
              "1               No       No  \n",
              "2               No       No  \n",
              "4              Yes       No  \n",
              "6              Yes       No  \n",
              "7               No      Yes  \n",
              "...            ...      ...  \n",
              "6495            No      Yes  \n",
              "6496            No      Yes  \n",
              "6497           Yes      Yes  \n",
              "6498            No      Yes  \n",
              "6499            No      Yes  \n",
              "\n",
              "[5885 rows x 8 columns]"
            ],
            "text/html": [
              "\n",
              "  <div id=\"df-01864972-8c51-43ea-a0eb-0aed146135ab\" class=\"colab-df-container\">\n",
              "    <div>\n",
              "<style scoped>\n",
              "    .dataframe tbody tr th:only-of-type {\n",
              "        vertical-align: middle;\n",
              "    }\n",
              "\n",
              "    .dataframe tbody tr th {\n",
              "        vertical-align: top;\n",
              "    }\n",
              "\n",
              "    .dataframe thead th {\n",
              "        text-align: right;\n",
              "    }\n",
              "</style>\n",
              "<table border=\"1\" class=\"dataframe\">\n",
              "  <thead>\n",
              "    <tr style=\"text-align: right;\">\n",
              "      <th></th>\n",
              "      <th>Gender</th>\n",
              "      <th>Age</th>\n",
              "      <th>Birth Weight</th>\n",
              "      <th>Birth Length</th>\n",
              "      <th>Body Weight</th>\n",
              "      <th>Body Length</th>\n",
              "      <th>Breastfeeding</th>\n",
              "      <th>Stunting</th>\n",
              "    </tr>\n",
              "  </thead>\n",
              "  <tbody>\n",
              "    <tr>\n",
              "      <th>1</th>\n",
              "      <td>female</td>\n",
              "      <td>20</td>\n",
              "      <td>3.3</td>\n",
              "      <td>49</td>\n",
              "      <td>11.1</td>\n",
              "      <td>80.5</td>\n",
              "      <td>No</td>\n",
              "      <td>No</td>\n",
              "    </tr>\n",
              "    <tr>\n",
              "      <th>2</th>\n",
              "      <td>male</td>\n",
              "      <td>4</td>\n",
              "      <td>2.8</td>\n",
              "      <td>48</td>\n",
              "      <td>6.5</td>\n",
              "      <td>63.0</td>\n",
              "      <td>No</td>\n",
              "      <td>No</td>\n",
              "    </tr>\n",
              "    <tr>\n",
              "      <th>4</th>\n",
              "      <td>male</td>\n",
              "      <td>32</td>\n",
              "      <td>3.2</td>\n",
              "      <td>49</td>\n",
              "      <td>11.0</td>\n",
              "      <td>88.7</td>\n",
              "      <td>Yes</td>\n",
              "      <td>No</td>\n",
              "    </tr>\n",
              "    <tr>\n",
              "      <th>6</th>\n",
              "      <td>male</td>\n",
              "      <td>2</td>\n",
              "      <td>2.9</td>\n",
              "      <td>49</td>\n",
              "      <td>8.5</td>\n",
              "      <td>74.2</td>\n",
              "      <td>Yes</td>\n",
              "      <td>No</td>\n",
              "    </tr>\n",
              "    <tr>\n",
              "      <th>7</th>\n",
              "      <td>male</td>\n",
              "      <td>33</td>\n",
              "      <td>2.5</td>\n",
              "      <td>49</td>\n",
              "      <td>10.0</td>\n",
              "      <td>91.5</td>\n",
              "      <td>No</td>\n",
              "      <td>Yes</td>\n",
              "    </tr>\n",
              "    <tr>\n",
              "      <th>...</th>\n",
              "      <td>...</td>\n",
              "      <td>...</td>\n",
              "      <td>...</td>\n",
              "      <td>...</td>\n",
              "      <td>...</td>\n",
              "      <td>...</td>\n",
              "      <td>...</td>\n",
              "      <td>...</td>\n",
              "    </tr>\n",
              "    <tr>\n",
              "      <th>6495</th>\n",
              "      <td>male</td>\n",
              "      <td>53</td>\n",
              "      <td>2.9</td>\n",
              "      <td>49</td>\n",
              "      <td>15.0</td>\n",
              "      <td>96.0</td>\n",
              "      <td>No</td>\n",
              "      <td>Yes</td>\n",
              "    </tr>\n",
              "    <tr>\n",
              "      <th>6496</th>\n",
              "      <td>male</td>\n",
              "      <td>9</td>\n",
              "      <td>2.9</td>\n",
              "      <td>50</td>\n",
              "      <td>7.3</td>\n",
              "      <td>62.0</td>\n",
              "      <td>No</td>\n",
              "      <td>Yes</td>\n",
              "    </tr>\n",
              "    <tr>\n",
              "      <th>6497</th>\n",
              "      <td>female</td>\n",
              "      <td>20</td>\n",
              "      <td>1.8</td>\n",
              "      <td>48</td>\n",
              "      <td>7.3</td>\n",
              "      <td>73.0</td>\n",
              "      <td>Yes</td>\n",
              "      <td>Yes</td>\n",
              "    </tr>\n",
              "    <tr>\n",
              "      <th>6498</th>\n",
              "      <td>male</td>\n",
              "      <td>11</td>\n",
              "      <td>2.9</td>\n",
              "      <td>49</td>\n",
              "      <td>7.7</td>\n",
              "      <td>66.0</td>\n",
              "      <td>No</td>\n",
              "      <td>Yes</td>\n",
              "    </tr>\n",
              "    <tr>\n",
              "      <th>6499</th>\n",
              "      <td>female</td>\n",
              "      <td>14</td>\n",
              "      <td>2.9</td>\n",
              "      <td>49</td>\n",
              "      <td>6.5</td>\n",
              "      <td>66.0</td>\n",
              "      <td>No</td>\n",
              "      <td>Yes</td>\n",
              "    </tr>\n",
              "  </tbody>\n",
              "</table>\n",
              "<p>5885 rows × 8 columns</p>\n",
              "</div>\n",
              "    <div class=\"colab-df-buttons\">\n",
              "\n",
              "  <div class=\"colab-df-container\">\n",
              "    <button class=\"colab-df-convert\" onclick=\"convertToInteractive('df-01864972-8c51-43ea-a0eb-0aed146135ab')\"\n",
              "            title=\"Convert this dataframe to an interactive table.\"\n",
              "            style=\"display:none;\">\n",
              "\n",
              "  <svg xmlns=\"http://www.w3.org/2000/svg\" height=\"24px\" viewBox=\"0 -960 960 960\">\n",
              "    <path d=\"M120-120v-720h720v720H120Zm60-500h600v-160H180v160Zm220 220h160v-160H400v160Zm0 220h160v-160H400v160ZM180-400h160v-160H180v160Zm440 0h160v-160H620v160ZM180-180h160v-160H180v160Zm440 0h160v-160H620v160Z\"/>\n",
              "  </svg>\n",
              "    </button>\n",
              "\n",
              "  <style>\n",
              "    .colab-df-container {\n",
              "      display:flex;\n",
              "      gap: 12px;\n",
              "    }\n",
              "\n",
              "    .colab-df-convert {\n",
              "      background-color: #E8F0FE;\n",
              "      border: none;\n",
              "      border-radius: 50%;\n",
              "      cursor: pointer;\n",
              "      display: none;\n",
              "      fill: #1967D2;\n",
              "      height: 32px;\n",
              "      padding: 0 0 0 0;\n",
              "      width: 32px;\n",
              "    }\n",
              "\n",
              "    .colab-df-convert:hover {\n",
              "      background-color: #E2EBFA;\n",
              "      box-shadow: 0px 1px 2px rgba(60, 64, 67, 0.3), 0px 1px 3px 1px rgba(60, 64, 67, 0.15);\n",
              "      fill: #174EA6;\n",
              "    }\n",
              "\n",
              "    .colab-df-buttons div {\n",
              "      margin-bottom: 4px;\n",
              "    }\n",
              "\n",
              "    [theme=dark] .colab-df-convert {\n",
              "      background-color: #3B4455;\n",
              "      fill: #D2E3FC;\n",
              "    }\n",
              "\n",
              "    [theme=dark] .colab-df-convert:hover {\n",
              "      background-color: #434B5C;\n",
              "      box-shadow: 0px 1px 3px 1px rgba(0, 0, 0, 0.15);\n",
              "      filter: drop-shadow(0px 1px 2px rgba(0, 0, 0, 0.3));\n",
              "      fill: #FFFFFF;\n",
              "    }\n",
              "  </style>\n",
              "\n",
              "    <script>\n",
              "      const buttonEl =\n",
              "        document.querySelector('#df-01864972-8c51-43ea-a0eb-0aed146135ab button.colab-df-convert');\n",
              "      buttonEl.style.display =\n",
              "        google.colab.kernel.accessAllowed ? 'block' : 'none';\n",
              "\n",
              "      async function convertToInteractive(key) {\n",
              "        const element = document.querySelector('#df-01864972-8c51-43ea-a0eb-0aed146135ab');\n",
              "        const dataTable =\n",
              "          await google.colab.kernel.invokeFunction('convertToInteractive',\n",
              "                                                    [key], {});\n",
              "        if (!dataTable) return;\n",
              "\n",
              "        const docLinkHtml = 'Like what you see? Visit the ' +\n",
              "          '<a target=\"_blank\" href=https://colab.research.google.com/notebooks/data_table.ipynb>data table notebook</a>'\n",
              "          + ' to learn more about interactive tables.';\n",
              "        element.innerHTML = '';\n",
              "        dataTable['output_type'] = 'display_data';\n",
              "        await google.colab.output.renderOutput(dataTable, element);\n",
              "        const docLink = document.createElement('div');\n",
              "        docLink.innerHTML = docLinkHtml;\n",
              "        element.appendChild(docLink);\n",
              "      }\n",
              "    </script>\n",
              "  </div>\n",
              "\n",
              "\n",
              "    <div id=\"df-92ccc499-811f-4e04-b1ea-f104cb8d0890\">\n",
              "      <button class=\"colab-df-quickchart\" onclick=\"quickchart('df-92ccc499-811f-4e04-b1ea-f104cb8d0890')\"\n",
              "                title=\"Suggest charts\"\n",
              "                style=\"display:none;\">\n",
              "\n",
              "<svg xmlns=\"http://www.w3.org/2000/svg\" height=\"24px\"viewBox=\"0 0 24 24\"\n",
              "     width=\"24px\">\n",
              "    <g>\n",
              "        <path d=\"M19 3H5c-1.1 0-2 .9-2 2v14c0 1.1.9 2 2 2h14c1.1 0 2-.9 2-2V5c0-1.1-.9-2-2-2zM9 17H7v-7h2v7zm4 0h-2V7h2v10zm4 0h-2v-4h2v4z\"/>\n",
              "    </g>\n",
              "</svg>\n",
              "      </button>\n",
              "\n",
              "<style>\n",
              "  .colab-df-quickchart {\n",
              "      --bg-color: #E8F0FE;\n",
              "      --fill-color: #1967D2;\n",
              "      --hover-bg-color: #E2EBFA;\n",
              "      --hover-fill-color: #174EA6;\n",
              "      --disabled-fill-color: #AAA;\n",
              "      --disabled-bg-color: #DDD;\n",
              "  }\n",
              "\n",
              "  [theme=dark] .colab-df-quickchart {\n",
              "      --bg-color: #3B4455;\n",
              "      --fill-color: #D2E3FC;\n",
              "      --hover-bg-color: #434B5C;\n",
              "      --hover-fill-color: #FFFFFF;\n",
              "      --disabled-bg-color: #3B4455;\n",
              "      --disabled-fill-color: #666;\n",
              "  }\n",
              "\n",
              "  .colab-df-quickchart {\n",
              "    background-color: var(--bg-color);\n",
              "    border: none;\n",
              "    border-radius: 50%;\n",
              "    cursor: pointer;\n",
              "    display: none;\n",
              "    fill: var(--fill-color);\n",
              "    height: 32px;\n",
              "    padding: 0;\n",
              "    width: 32px;\n",
              "  }\n",
              "\n",
              "  .colab-df-quickchart:hover {\n",
              "    background-color: var(--hover-bg-color);\n",
              "    box-shadow: 0 1px 2px rgba(60, 64, 67, 0.3), 0 1px 3px 1px rgba(60, 64, 67, 0.15);\n",
              "    fill: var(--button-hover-fill-color);\n",
              "  }\n",
              "\n",
              "  .colab-df-quickchart-complete:disabled,\n",
              "  .colab-df-quickchart-complete:disabled:hover {\n",
              "    background-color: var(--disabled-bg-color);\n",
              "    fill: var(--disabled-fill-color);\n",
              "    box-shadow: none;\n",
              "  }\n",
              "\n",
              "  .colab-df-spinner {\n",
              "    border: 2px solid var(--fill-color);\n",
              "    border-color: transparent;\n",
              "    border-bottom-color: var(--fill-color);\n",
              "    animation:\n",
              "      spin 1s steps(1) infinite;\n",
              "  }\n",
              "\n",
              "  @keyframes spin {\n",
              "    0% {\n",
              "      border-color: transparent;\n",
              "      border-bottom-color: var(--fill-color);\n",
              "      border-left-color: var(--fill-color);\n",
              "    }\n",
              "    20% {\n",
              "      border-color: transparent;\n",
              "      border-left-color: var(--fill-color);\n",
              "      border-top-color: var(--fill-color);\n",
              "    }\n",
              "    30% {\n",
              "      border-color: transparent;\n",
              "      border-left-color: var(--fill-color);\n",
              "      border-top-color: var(--fill-color);\n",
              "      border-right-color: var(--fill-color);\n",
              "    }\n",
              "    40% {\n",
              "      border-color: transparent;\n",
              "      border-right-color: var(--fill-color);\n",
              "      border-top-color: var(--fill-color);\n",
              "    }\n",
              "    60% {\n",
              "      border-color: transparent;\n",
              "      border-right-color: var(--fill-color);\n",
              "    }\n",
              "    80% {\n",
              "      border-color: transparent;\n",
              "      border-right-color: var(--fill-color);\n",
              "      border-bottom-color: var(--fill-color);\n",
              "    }\n",
              "    90% {\n",
              "      border-color: transparent;\n",
              "      border-bottom-color: var(--fill-color);\n",
              "    }\n",
              "  }\n",
              "</style>\n",
              "\n",
              "      <script>\n",
              "        async function quickchart(key) {\n",
              "          const quickchartButtonEl =\n",
              "            document.querySelector('#' + key + ' button');\n",
              "          quickchartButtonEl.disabled = true;  // To prevent multiple clicks.\n",
              "          quickchartButtonEl.classList.add('colab-df-spinner');\n",
              "          try {\n",
              "            const charts = await google.colab.kernel.invokeFunction(\n",
              "                'suggestCharts', [key], {});\n",
              "          } catch (error) {\n",
              "            console.error('Error during call to suggestCharts:', error);\n",
              "          }\n",
              "          quickchartButtonEl.classList.remove('colab-df-spinner');\n",
              "          quickchartButtonEl.classList.add('colab-df-quickchart-complete');\n",
              "        }\n",
              "        (() => {\n",
              "          let quickchartButtonEl =\n",
              "            document.querySelector('#df-92ccc499-811f-4e04-b1ea-f104cb8d0890 button');\n",
              "          quickchartButtonEl.style.display =\n",
              "            google.colab.kernel.accessAllowed ? 'block' : 'none';\n",
              "        })();\n",
              "      </script>\n",
              "    </div>\n",
              "\n",
              "    </div>\n",
              "  </div>\n"
            ],
            "application/vnd.google.colaboratory.intrinsic+json": {
              "type": "dataframe",
              "summary": "{\n  \"name\": \"df[df\",\n  \"rows\": 5885,\n  \"fields\": [\n    {\n      \"column\": \"Gender\",\n      \"properties\": {\n        \"dtype\": \"category\",\n        \"num_unique_values\": 2,\n        \"samples\": [\n          \"male\",\n          \"female\"\n        ],\n        \"semantic_type\": \"\",\n        \"description\": \"\"\n      }\n    },\n    {\n      \"column\": \"Age\",\n      \"properties\": {\n        \"dtype\": \"number\",\n        \"std\": 16,\n        \"min\": 1,\n        \"max\": 59,\n        \"num_unique_values\": 59,\n        \"samples\": [\n          20,\n          31\n        ],\n        \"semantic_type\": \"\",\n        \"description\": \"\"\n      }\n    },\n    {\n      \"column\": \"Birth Weight\",\n      \"properties\": {\n        \"dtype\": \"number\",\n        \"std\": 0.35160044530706563,\n        \"min\": 1.8,\n        \"max\": 4.0,\n        \"num_unique_values\": 22,\n        \"samples\": [\n          3.3,\n          3.4\n        ],\n        \"semantic_type\": \"\",\n        \"description\": \"\"\n      }\n    },\n    {\n      \"column\": \"Birth Length\",\n      \"properties\": {\n        \"dtype\": \"number\",\n        \"std\": 1,\n        \"min\": 42,\n        \"max\": 53,\n        \"num_unique_values\": 10,\n        \"samples\": [\n          46,\n          48\n        ],\n        \"semantic_type\": \"\",\n        \"description\": \"\"\n      }\n    },\n    {\n      \"column\": \"Body Weight\",\n      \"properties\": {\n        \"dtype\": \"number\",\n        \"std\": 3.4857894572464025,\n        \"min\": 2.9,\n        \"max\": 24.5,\n        \"num_unique_values\": 93,\n        \"samples\": [\n          9.0,\n          6.1\n        ],\n        \"semantic_type\": \"\",\n        \"description\": \"\"\n      }\n    },\n    {\n      \"column\": \"Body Length\",\n      \"properties\": {\n        \"dtype\": \"number\",\n        \"std\": 14.104934808986922,\n        \"min\": 53.0,\n        \"max\": 111.0,\n        \"num_unique_values\": 119,\n        \"samples\": [\n          78.5,\n          55.5\n        ],\n        \"semantic_type\": \"\",\n        \"description\": \"\"\n      }\n    },\n    {\n      \"column\": \"Breastfeeding\",\n      \"properties\": {\n        \"dtype\": \"category\",\n        \"num_unique_values\": 2,\n        \"samples\": [\n          \"Yes\",\n          \"No\"\n        ],\n        \"semantic_type\": \"\",\n        \"description\": \"\"\n      }\n    },\n    {\n      \"column\": \"Stunting\",\n      \"properties\": {\n        \"dtype\": \"category\",\n        \"num_unique_values\": 2,\n        \"samples\": [\n          \"Yes\",\n          \"No\"\n        ],\n        \"semantic_type\": \"\",\n        \"description\": \"\"\n      }\n    }\n  ]\n}"
            }
          },
          "metadata": {},
          "execution_count": 403
        }
      ]
    },
    {
      "cell_type": "markdown",
      "source": [
        "### Memeriksa nilai unique"
      ],
      "metadata": {
        "id": "m3Ue3MmLRCUM"
      }
    },
    {
      "cell_type": "code",
      "source": [
        "df.nunique()"
      ],
      "metadata": {
        "colab": {
          "base_uri": "https://localhost:8080/",
          "height": 335
        },
        "id": "qJaR7XibRXwN",
        "outputId": "1040ea2a-9eea-42aa-8a89-c78c1ea18d69"
      },
      "execution_count": 404,
      "outputs": [
        {
          "output_type": "execute_result",
          "data": {
            "text/plain": [
              "Gender             2\n",
              "Age               59\n",
              "Birth Weight      22\n",
              "Birth Length      10\n",
              "Body Weight       99\n",
              "Body Length      146\n",
              "Breastfeeding      2\n",
              "Stunting           2\n",
              "dtype: int64"
            ],
            "text/html": [
              "<div>\n",
              "<style scoped>\n",
              "    .dataframe tbody tr th:only-of-type {\n",
              "        vertical-align: middle;\n",
              "    }\n",
              "\n",
              "    .dataframe tbody tr th {\n",
              "        vertical-align: top;\n",
              "    }\n",
              "\n",
              "    .dataframe thead th {\n",
              "        text-align: right;\n",
              "    }\n",
              "</style>\n",
              "<table border=\"1\" class=\"dataframe\">\n",
              "  <thead>\n",
              "    <tr style=\"text-align: right;\">\n",
              "      <th></th>\n",
              "      <th>0</th>\n",
              "    </tr>\n",
              "  </thead>\n",
              "  <tbody>\n",
              "    <tr>\n",
              "      <th>Gender</th>\n",
              "      <td>2</td>\n",
              "    </tr>\n",
              "    <tr>\n",
              "      <th>Age</th>\n",
              "      <td>59</td>\n",
              "    </tr>\n",
              "    <tr>\n",
              "      <th>Birth Weight</th>\n",
              "      <td>22</td>\n",
              "    </tr>\n",
              "    <tr>\n",
              "      <th>Birth Length</th>\n",
              "      <td>10</td>\n",
              "    </tr>\n",
              "    <tr>\n",
              "      <th>Body Weight</th>\n",
              "      <td>99</td>\n",
              "    </tr>\n",
              "    <tr>\n",
              "      <th>Body Length</th>\n",
              "      <td>146</td>\n",
              "    </tr>\n",
              "    <tr>\n",
              "      <th>Breastfeeding</th>\n",
              "      <td>2</td>\n",
              "    </tr>\n",
              "    <tr>\n",
              "      <th>Stunting</th>\n",
              "      <td>2</td>\n",
              "    </tr>\n",
              "  </tbody>\n",
              "</table>\n",
              "</div><br><label><b>dtype:</b> int64</label>"
            ]
          },
          "metadata": {},
          "execution_count": 404
        }
      ]
    },
    {
      "cell_type": "code",
      "source": [
        "for col in df.columns:\n",
        " print(f'{col}')\n",
        " print(f'Jumlah nilai yang unik: {df[col].nunique()}')\n",
        " print(f'Nilai yang paling sering muncul (modus): {df[col].mode().values[0]}')\n",
        " print(f'{df[col].unique()}\\n')"
      ],
      "metadata": {
        "colab": {
          "base_uri": "https://localhost:8080/"
        },
        "id": "3W61YSfZRZ9W",
        "outputId": "380a19f6-38e3-47f3-9437-44044021b714"
      },
      "execution_count": 405,
      "outputs": [
        {
          "output_type": "stream",
          "name": "stdout",
          "text": [
            "Gender\n",
            "Jumlah nilai yang unik: 2\n",
            "Nilai yang paling sering muncul (modus): female\n",
            "['female' 'male']\n",
            "\n",
            "Age\n",
            "Jumlah nilai yang unik: 59\n",
            "Nilai yang paling sering muncul (modus): 9\n",
            "[56 20  4 14 32 30  2 33 15 16 47 31 25 12  3 55 19  7 35 46 13 37 17 10\n",
            "  9 22 27 21 38 51 50 39  5  8 42 28 18 43 57 45 59 54 53 52  6 11 40  1\n",
            " 49 23 36 48 29 58 24 34 44 41 26]\n",
            "\n",
            "Birth Weight\n",
            "Jumlah nilai yang unik: 22\n",
            "Nilai yang paling sering muncul (modus): 3.0\n",
            "[2.9 3.3 2.8 2.  3.2 2.3 2.5 3.  4.  2.4 2.6 2.7 3.6 3.4 3.1 3.7 3.5 3.8\n",
            " 2.2 3.9 2.1 1.8]\n",
            "\n",
            "Birth Length\n",
            "Jumlah nilai yang unik: 10\n",
            "Nilai yang paling sering muncul (modus): 49\n",
            "[50 49 48 51 47 52 42 44 46 53]\n",
            "\n",
            "Body Weight\n",
            "Jumlah nilai yang unik: 99\n",
            "Nilai yang paling sering muncul (modus): 9.0\n",
            "[11.  11.1  6.5  7.  12.   8.5 10.  15.   5.9  6.6  9.1  9.8  5.8  8.2\n",
            "  6.   7.7  9.   9.5  5.  10.7 13.1  6.7  7.1  7.6 13.   6.8 13.2  8.4\n",
            " 11.8 13.8  4.6 16.6  7.3  9.6 15.2  4.2 13.5 12.5 14.3 11.5  8.  10.3\n",
            "  4.9  6.3  7.2 18.   8.7 14.  14.5  6.2 15.5 14.4  5.6  6.1  6.9 20.\n",
            "  7.5  3.7 11.7 17.2  8.3  5.3  8.1  9.3 11.6 12.1  2.9 12.8  7.9  9.9\n",
            " 10.6  9.7 10.1 13.6 13.4  3.   9.4 16.  12.3 10.2  6.4 11.2  5.7 15.3\n",
            "  5.1  4.3 10.5 24.5  5.4  8.8  4.8 16.2 11.4 17.5 16.7 18.3  5.5  5.2\n",
            "  7.4]\n",
            "\n",
            "Body Length\n",
            "Jumlah nilai yang unik: 146\n",
            "Nilai yang paling sering muncul (modus): 96.0\n",
            "[ 90.   80.5  63.   71.   88.7  74.2  91.5  96.   58.3  76.   69.6  70.5\n",
            "  54.   81.   69.5  57.   68.   55.  101.5  72.2  69.   95.   97.2  60.\n",
            "  71.5  67.   59.   65.   80.3  85.   73.   89.   80.   72.8 106.1  62.\n",
            " 102.   94.   53.   92.   87.   97.   84.2  74.   75.   98.   91.   93.8\n",
            " 104.6  94.5  84.  105.   99.1  66.   78.5 111.   77.7  68.1  72.   74.4\n",
            "  68.3  72.4  54.6  79.   93.   92.7 106.9  72.5  68.5  99.  100.   70.\n",
            "  71.3  97.6  75.8  82.5  73.4  73.9  97.5  65.3 103.   64.   56.5  77.1\n",
            "  95.5  68.8  77.3  92.8  64.5  68.9  76.5  77.   88.6  99.8  89.5 105.5\n",
            "  86.   83.   55.5  77.2  89.1 104.3  58.5  97.8 101.   74.8  94.2  58.6\n",
            "  84.7  85.5  86.7  78.  105.7  77.6  76.6  85.4  77.5  98.5 107.   73.7\n",
            " 109.3 104.5  70.8  65.5  80.2 102.5  79.5  80.7 104.   56.   73.5  97.3\n",
            "  82.  101.8  57.5  99.4 100.8  83.3  70.9  94.7  63.2  62.9  74.9  76.8\n",
            "  62.7  74.5]\n",
            "\n",
            "Breastfeeding\n",
            "Jumlah nilai yang unik: 2\n",
            "Nilai yang paling sering muncul (modus): No\n",
            "['Yes' 'No']\n",
            "\n",
            "Stunting\n",
            "Jumlah nilai yang unik: 2\n",
            "Nilai yang paling sering muncul (modus): Yes\n",
            "['No' 'Yes']\n",
            "\n"
          ]
        }
      ]
    },
    {
      "cell_type": "code",
      "source": [
        "# melihat apakah ada data yang tidak konsisten\n",
        "df['Stunting'].value_counts()"
      ],
      "metadata": {
        "colab": {
          "base_uri": "https://localhost:8080/",
          "height": 178
        },
        "id": "N5KEqHaYMDQI",
        "outputId": "a870ab47-7175-4501-f23f-834c83710aa6"
      },
      "execution_count": 406,
      "outputs": [
        {
          "output_type": "execute_result",
          "data": {
            "text/plain": [
              "Stunting\n",
              "Yes    3312\n",
              "No     3188\n",
              "Name: count, dtype: int64"
            ],
            "text/html": [
              "<div>\n",
              "<style scoped>\n",
              "    .dataframe tbody tr th:only-of-type {\n",
              "        vertical-align: middle;\n",
              "    }\n",
              "\n",
              "    .dataframe tbody tr th {\n",
              "        vertical-align: top;\n",
              "    }\n",
              "\n",
              "    .dataframe thead th {\n",
              "        text-align: right;\n",
              "    }\n",
              "</style>\n",
              "<table border=\"1\" class=\"dataframe\">\n",
              "  <thead>\n",
              "    <tr style=\"text-align: right;\">\n",
              "      <th></th>\n",
              "      <th>count</th>\n",
              "    </tr>\n",
              "    <tr>\n",
              "      <th>Stunting</th>\n",
              "      <th></th>\n",
              "    </tr>\n",
              "  </thead>\n",
              "  <tbody>\n",
              "    <tr>\n",
              "      <th>Yes</th>\n",
              "      <td>3312</td>\n",
              "    </tr>\n",
              "    <tr>\n",
              "      <th>No</th>\n",
              "      <td>3188</td>\n",
              "    </tr>\n",
              "  </tbody>\n",
              "</table>\n",
              "</div><br><label><b>dtype:</b> int64</label>"
            ]
          },
          "metadata": {},
          "execution_count": 406
        }
      ]
    },
    {
      "cell_type": "markdown",
      "source": [
        "## BAB 4 – menentukan object data"
      ],
      "metadata": {
        "id": "43FQZUVxfQw9"
      }
    },
    {
      "cell_type": "markdown",
      "source": [],
      "metadata": {
        "id": "DG6RzyFpfL3R"
      }
    },
    {
      "cell_type": "code",
      "source": [
        "# Melihat kembali informasi dataset untuk memahami isi dan tipe data\n",
        "df.info()"
      ],
      "metadata": {
        "id": "H-oavbaJkI0l",
        "colab": {
          "base_uri": "https://localhost:8080/"
        },
        "outputId": "5a2fafba-de25-4c0b-d775-9a367bfc8d7d"
      },
      "execution_count": 407,
      "outputs": [
        {
          "output_type": "stream",
          "name": "stdout",
          "text": [
            "<class 'pandas.core.frame.DataFrame'>\n",
            "RangeIndex: 6500 entries, 0 to 6499\n",
            "Data columns (total 8 columns):\n",
            " #   Column         Non-Null Count  Dtype  \n",
            "---  ------         --------------  -----  \n",
            " 0   Gender         6500 non-null   object \n",
            " 1   Age            6500 non-null   int64  \n",
            " 2   Birth Weight   6500 non-null   float64\n",
            " 3   Birth Length   6500 non-null   int64  \n",
            " 4   Body Weight    6500 non-null   float64\n",
            " 5   Body Length    6500 non-null   float64\n",
            " 6   Breastfeeding  6500 non-null   object \n",
            " 7   Stunting       6500 non-null   object \n",
            "dtypes: float64(3), int64(2), object(3)\n",
            "memory usage: 406.4+ KB\n"
          ]
        }
      ]
    },
    {
      "cell_type": "markdown",
      "source": [
        "- Jika ada data yang tidak konsisten, silahkan di tangani pada proses dibawah ini."
      ],
      "metadata": {
        "id": "8D7_uzOsfvTV"
      }
    },
    {
      "cell_type": "markdown",
      "source": [
        "### Mengubah label target"
      ],
      "metadata": {
        "id": "ZeLRkld8SXyQ"
      }
    },
    {
      "cell_type": "code",
      "source": [
        "# Ubah label target menjadi 0 dan 1\n",
        "df['Stunting'] = df['Stunting'].map({'No': 0, 'Yes': 1})"
      ],
      "metadata": {
        "id": "cb_zPHXWMaOO"
      },
      "execution_count": 408,
      "outputs": []
    },
    {
      "cell_type": "markdown",
      "source": [
        "## BAB 5 – membersihkan data"
      ],
      "metadata": {
        "id": "nIDQTlnegLrR"
      }
    },
    {
      "cell_type": "markdown",
      "source": [
        "### Memeriksa missing values"
      ],
      "metadata": {
        "id": "nzH3c_OxSeD4"
      }
    },
    {
      "cell_type": "code",
      "source": [
        "# Memastikan kembali untuk melihat data kosong\n",
        "df.isnull().sum()"
      ],
      "metadata": {
        "id": "Mlvuo1mSgE2D",
        "colab": {
          "base_uri": "https://localhost:8080/",
          "height": 335
        },
        "outputId": "4a314c65-b842-4b5c-ab94-621c6c8eee5b"
      },
      "execution_count": 409,
      "outputs": [
        {
          "output_type": "execute_result",
          "data": {
            "text/plain": [
              "Gender           0\n",
              "Age              0\n",
              "Birth Weight     0\n",
              "Birth Length     0\n",
              "Body Weight      0\n",
              "Body Length      0\n",
              "Breastfeeding    0\n",
              "Stunting         0\n",
              "dtype: int64"
            ],
            "text/html": [
              "<div>\n",
              "<style scoped>\n",
              "    .dataframe tbody tr th:only-of-type {\n",
              "        vertical-align: middle;\n",
              "    }\n",
              "\n",
              "    .dataframe tbody tr th {\n",
              "        vertical-align: top;\n",
              "    }\n",
              "\n",
              "    .dataframe thead th {\n",
              "        text-align: right;\n",
              "    }\n",
              "</style>\n",
              "<table border=\"1\" class=\"dataframe\">\n",
              "  <thead>\n",
              "    <tr style=\"text-align: right;\">\n",
              "      <th></th>\n",
              "      <th>0</th>\n",
              "    </tr>\n",
              "  </thead>\n",
              "  <tbody>\n",
              "    <tr>\n",
              "      <th>Gender</th>\n",
              "      <td>0</td>\n",
              "    </tr>\n",
              "    <tr>\n",
              "      <th>Age</th>\n",
              "      <td>0</td>\n",
              "    </tr>\n",
              "    <tr>\n",
              "      <th>Birth Weight</th>\n",
              "      <td>0</td>\n",
              "    </tr>\n",
              "    <tr>\n",
              "      <th>Birth Length</th>\n",
              "      <td>0</td>\n",
              "    </tr>\n",
              "    <tr>\n",
              "      <th>Body Weight</th>\n",
              "      <td>0</td>\n",
              "    </tr>\n",
              "    <tr>\n",
              "      <th>Body Length</th>\n",
              "      <td>0</td>\n",
              "    </tr>\n",
              "    <tr>\n",
              "      <th>Breastfeeding</th>\n",
              "      <td>0</td>\n",
              "    </tr>\n",
              "    <tr>\n",
              "      <th>Stunting</th>\n",
              "      <td>0</td>\n",
              "    </tr>\n",
              "  </tbody>\n",
              "</table>\n",
              "</div><br><label><b>dtype:</b> int64</label>"
            ]
          },
          "metadata": {},
          "execution_count": 409
        }
      ]
    },
    {
      "cell_type": "markdown",
      "source": [],
      "metadata": {
        "id": "rtvIjouiSk8x"
      }
    },
    {
      "cell_type": "markdown",
      "source": [
        "### Handling duplikat data"
      ],
      "metadata": {
        "id": "PaYoBCnWSsAH"
      }
    },
    {
      "cell_type": "code",
      "source": [
        "# Cek duplikasi data & Handle jika terdapat duplikat data\n",
        "df = df.drop_duplicates()"
      ],
      "metadata": {
        "id": "OlEweBMxhIA6"
      },
      "execution_count": 410,
      "outputs": []
    },
    {
      "cell_type": "markdown",
      "source": [],
      "metadata": {
        "id": "3is-ZvsuV1m8"
      }
    },
    {
      "cell_type": "markdown",
      "source": [
        "## BAB 6 – mengkonstruksi data\n"
      ],
      "metadata": {
        "id": "l8VZ7J86hSAx"
      }
    },
    {
      "cell_type": "markdown",
      "source": [
        "### Deteksi Outlier"
      ],
      "metadata": {
        "id": "4jVevQBQS0GJ"
      }
    },
    {
      "cell_type": "code",
      "source": [
        "# cek outlier dengan visualisasi\n",
        "for col in num_cols:\n",
        "    boxplot = sns.boxplot(data=df, x=col)\n",
        "    plt.title(f'Boxplot of {col}')\n",
        "    plt.show()"
      ],
      "metadata": {
        "id": "8GAnWQvQiW8N",
        "colab": {
          "base_uri": "https://localhost:8080/",
          "height": 1000
        },
        "outputId": "20c3ee38-b6ef-4994-c300-b352e0626e81"
      },
      "execution_count": 411,
      "outputs": [
        {
          "output_type": "display_data",
          "data": {
            "text/plain": [
              "<Figure size 640x480 with 1 Axes>"
            ],
            "image/png": "[encoded data removed]"
          },
          "metadata": {}
        },
        {
          "output_type": "display_data",
          "data": {
            "text/plain": [
              "<Figure size 640x480 with 1 Axes>"
            ],
            "image/png": "[encoded data removed]"
          },
          "metadata": {}
        },
        {
          "output_type": "display_data",
          "data": {
            "text/plain": [
              "<Figure size 640x480 with 1 Axes>"
            ],
            "image/png": "[encoded data removed]"
          },
          "metadata": {}
        },
        {
          "output_type": "display_data",
          "data": {
            "text/plain": [
              "<Figure size 640x480 with 1 Axes>"
            ],
            "image/png": "[encoded data removed]"
          },
          "metadata": {}
        },
        {
          "output_type": "display_data",
          "data": {
            "text/plain": [
              "<Figure size 640x480 with 1 Axes>"
            ],
            "image/png": "[encoded data removed]"
          },
          "metadata": {}
        }
      ]
    },
    {
      "cell_type": "markdown",
      "source": [
        "#### Handling dengan IQR"
      ],
      "metadata": {
        "id": "YV01nzmbPTKh"
      }
    },
    {
      "cell_type": "markdown",
      "source": [
        "Ingat, handling dengan IQR disini jika distribusi data tidak normal (tidak simetris atau skewed), dimana ada data yang outliersnya positively skewed (miring kanan/condong di kanan) atau negatively skewed (miring kiri/condong di kiri)\n",
        "\n"
      ],
      "metadata": {
        "id": "6jtuGIeTOHgA"
      }
    },
    {
      "cell_type": "code",
      "source": [
        "# Buat salinan dataframe\n",
        "data_cleaned = df.copy()"
      ],
      "metadata": {
        "id": "BzydhOujPfZ6"
      },
      "execution_count": 412,
      "outputs": []
    },
    {
      "cell_type": "code",
      "source": [
        "iqr_cols = ['Birth Weight', 'Body Weight']\n",
        "\n",
        "for col in iqr_cols:\n",
        "    Q1 = data_cleaned[col].quantile(0.25)\n",
        "    Q3 = data_cleaned[col].quantile(0.75)\n",
        "    IQR = Q3 - Q1\n",
        "    lower_bound = Q1 - 1.5 * IQR\n",
        "    upper_bound = Q3 + 1.5 * IQR\n",
        "\n",
        "    data_cleaned[col] = data_cleaned[col].apply(\n",
        "        lambda x: lower_bound if x < lower_bound else (upper_bound if x > upper_bound else x)\n",
        "    )\n",
        "    print(f\"Kolom {col} telah diatasi outliersnya dengan IQR.\")"
      ],
      "metadata": {
        "colab": {
          "base_uri": "https://localhost:8080/"
        },
        "id": "pg6jUwBcN82V",
        "outputId": "8fef02ec-fe16-4479-8936-5827b5db7bfb"
      },
      "execution_count": 413,
      "outputs": [
        {
          "output_type": "stream",
          "name": "stdout",
          "text": [
            "Kolom Birth Weight telah diatasi outliersnya dengan IQR.\n",
            "Kolom Body Weight telah diatasi outliersnya dengan IQR.\n"
          ]
        }
      ]
    },
    {
      "cell_type": "markdown",
      "source": [
        "#### Handling dengan Zscore"
      ],
      "metadata": {
        "id": "Wdb9Ly4DOT0J"
      }
    },
    {
      "cell_type": "code",
      "source": [
        "zscore_cols = ['Birth Length']\n",
        "\n",
        "for col in zscore_cols:\n",
        "    mean = data_cleaned[col].mean()\n",
        "    std = data_cleaned[col].std()\n",
        "    threshold = 3  # z-score threshold\n",
        "\n",
        "    data_cleaned[col] = data_cleaned[col].apply(\n",
        "        lambda x: mean - threshold * std if (x - mean)/std < -threshold\n",
        "        else (mean + threshold * std if (x - mean)/std > threshold else x)\n",
        "    )\n",
        "    print(f\"Kolom {col} telah diatasi outliersnya dengan Z-score.\")"
      ],
      "metadata": {
        "colab": {
          "base_uri": "https://localhost:8080/"
        },
        "id": "sqarosaFOR36",
        "outputId": "53d04389-530a-4a6d-b7c0-9471f21e399e"
      },
      "execution_count": 414,
      "outputs": [
        {
          "output_type": "stream",
          "name": "stdout",
          "text": [
            "Kolom Birth Length telah diatasi outliersnya dengan Z-score.\n"
          ]
        }
      ]
    },
    {
      "cell_type": "code",
      "source": [
        "df = data_cleaned"
      ],
      "metadata": {
        "id": "XhRIlew3PiSq"
      },
      "execution_count": 415,
      "outputs": []
    },
    {
      "cell_type": "code",
      "source": [
        "# cek outlier dengan visualisasi (misalnya menggunakan boxplot)\n",
        "plt.figure(figsize=(22,12))\n",
        "sns.boxplot(data=df.drop('Stunting', axis=1))\n",
        "plt.xticks(rotation=45)\n",
        "plt.title(\"Boxplot Semua Fitur\")\n",
        "plt.show()"
      ],
      "metadata": {
        "colab": {
          "base_uri": "https://localhost:8080/",
          "height": 450
        },
        "id": "T381Qs2YPprz",
        "outputId": "f8c38e26-ca37-408c-9397-4f31d987d5d8"
      },
      "execution_count": 416,
      "outputs": [
        {
          "output_type": "display_data",
          "data": {
            "text/plain": [
              "<Figure size 2200x1200 with 1 Axes>"
            ],
            "image/png": "[encoded data removed]"
          },
          "metadata": {}
        }
      ]
    },
    {
      "cell_type": "markdown",
      "source": [
        "### Mengubah kolom ke numerik"
      ],
      "metadata": {
        "id": "O11ROyoTbtw_"
      }
    },
    {
      "cell_type": "code",
      "source": [
        "df.info()"
      ],
      "metadata": {
        "colab": {
          "base_uri": "https://localhost:8080/"
        },
        "id": "3PDfP5rKtM4v",
        "outputId": "ebd77349-3387-477b-aafe-92329c903591"
      },
      "execution_count": 417,
      "outputs": [
        {
          "output_type": "stream",
          "name": "stdout",
          "text": [
            "<class 'pandas.core.frame.DataFrame'>\n",
            "Index: 975 entries, 0 to 6487\n",
            "Data columns (total 8 columns):\n",
            " #   Column         Non-Null Count  Dtype  \n",
            "---  ------         --------------  -----  \n",
            " 0   Gender         975 non-null    object \n",
            " 1   Age            975 non-null    int64  \n",
            " 2   Birth Weight   975 non-null    float64\n",
            " 3   Birth Length   975 non-null    float64\n",
            " 4   Body Weight    975 non-null    float64\n",
            " 5   Body Length    975 non-null    float64\n",
            " 6   Breastfeeding  975 non-null    object \n",
            " 7   Stunting       975 non-null    int64  \n",
            "dtypes: float64(4), int64(2), object(2)\n",
            "memory usage: 68.6+ KB\n"
          ]
        }
      ]
    },
    {
      "cell_type": "code",
      "source": [
        "from sklearn.preprocessing import LabelEncoder"
      ],
      "metadata": {
        "id": "vQLc-wllQcNr"
      },
      "execution_count": 418,
      "outputs": []
    },
    {
      "cell_type": "code",
      "source": [
        "enc_cols = ['Gender', 'Breastfeeding']"
      ],
      "metadata": {
        "id": "ZVCzAChkQAJ3"
      },
      "execution_count": 419,
      "outputs": []
    },
    {
      "cell_type": "code",
      "source": [
        "for col in enc_cols:\n",
        "    df[col] = LabelEncoder().fit_transform(df[col])"
      ],
      "metadata": {
        "id": "plxZN7JAbqHW"
      },
      "execution_count": 420,
      "outputs": []
    },
    {
      "cell_type": "code",
      "source": [
        "df.head()"
      ],
      "metadata": {
        "colab": {
          "base_uri": "https://localhost:8080/",
          "height": 223
        },
        "id": "TO4ffhMstkMP",
        "outputId": "09eeda7f-8e93-4067-fa00-3a5978cce51d"
      },
      "execution_count": 421,
      "outputs": [
        {
          "output_type": "execute_result",
          "data": {
            "text/plain": [
              "   Gender  Age  Birth Weight  Birth Length  Body Weight  Body Length  \\\n",
              "0       0   56          2.90          50.0         11.0         90.0   \n",
              "1       0   20          3.30          49.0         11.1         80.5   \n",
              "2       1    4          2.80          48.0          6.5         63.0   \n",
              "3       0   14          2.45          49.0          7.0         71.0   \n",
              "4       1   32          3.20          49.0         11.0         88.7   \n",
              "\n",
              "   Breastfeeding  Stunting  \n",
              "0              1         0  \n",
              "1              0         0  \n",
              "2              0         0  \n",
              "3              1         0  \n",
              "4              1         0  "
            ],
            "text/html": [
              "\n",
              "  <div id=\"df-2a28ef36-c853-4d42-9ad7-c32613523281\" class=\"colab-df-container\">\n",
              "    <div>\n",
              "<style scoped>\n",
              "    .dataframe tbody tr th:only-of-type {\n",
              "        vertical-align: middle;\n",
              "    }\n",
              "\n",
              "    .dataframe tbody tr th {\n",
              "        vertical-align: top;\n",
              "    }\n",
              "\n",
              "    .dataframe thead th {\n",
              "        text-align: right;\n",
              "    }\n",
              "</style>\n",
              "<table border=\"1\" class=\"dataframe\">\n",
              "  <thead>\n",
              "    <tr style=\"text-align: right;\">\n",
              "      <th></th>\n",
              "      <th>Gender</th>\n",
              "      <th>Age</th>\n",
              "      <th>Birth Weight</th>\n",
              "      <th>Birth Length</th>\n",
              "      <th>Body Weight</th>\n",
              "      <th>Body Length</th>\n",
              "      <th>Breastfeeding</th>\n",
              "      <th>Stunting</th>\n",
              "    </tr>\n",
              "  </thead>\n",
              "  <tbody>\n",
              "    <tr>\n",
              "      <th>0</th>\n",
              "      <td>0</td>\n",
              "      <td>56</td>\n",
              "      <td>2.90</td>\n",
              "      <td>50.0</td>\n",
              "      <td>11.0</td>\n",
              "      <td>90.0</td>\n",
              "      <td>1</td>\n",
              "      <td>0</td>\n",
              "    </tr>\n",
              "    <tr>\n",
              "      <th>1</th>\n",
              "      <td>0</td>\n",
              "      <td>20</td>\n",
              "      <td>3.30</td>\n",
              "      <td>49.0</td>\n",
              "      <td>11.1</td>\n",
              "      <td>80.5</td>\n",
              "      <td>0</td>\n",
              "      <td>0</td>\n",
              "    </tr>\n",
              "    <tr>\n",
              "      <th>2</th>\n",
              "      <td>1</td>\n",
              "      <td>4</td>\n",
              "      <td>2.80</td>\n",
              "      <td>48.0</td>\n",
              "      <td>6.5</td>\n",
              "      <td>63.0</td>\n",
              "      <td>0</td>\n",
              "      <td>0</td>\n",
              "    </tr>\n",
              "    <tr>\n",
              "      <th>3</th>\n",
              "      <td>0</td>\n",
              "      <td>14</td>\n",
              "      <td>2.45</td>\n",
              "      <td>49.0</td>\n",
              "      <td>7.0</td>\n",
              "      <td>71.0</td>\n",
              "      <td>1</td>\n",
              "      <td>0</td>\n",
              "    </tr>\n",
              "    <tr>\n",
              "      <th>4</th>\n",
              "      <td>1</td>\n",
              "      <td>32</td>\n",
              "      <td>3.20</td>\n",
              "      <td>49.0</td>\n",
              "      <td>11.0</td>\n",
              "      <td>88.7</td>\n",
              "      <td>1</td>\n",
              "      <td>0</td>\n",
              "    </tr>\n",
              "  </tbody>\n",
              "</table>\n",
              "</div>\n",
              "    <div class=\"colab-df-buttons\">\n",
              "\n",
              "  <div class=\"colab-df-container\">\n",
              "    <button class=\"colab-df-convert\" onclick=\"convertToInteractive('df-2a28ef36-c853-4d42-9ad7-c32613523281')\"\n",
              "            title=\"Convert this dataframe to an interactive table.\"\n",
              "            style=\"display:none;\">\n",
              "\n",
              "  <svg xmlns=\"http://www.w3.org/2000/svg\" height=\"24px\" viewBox=\"0 -960 960 960\">\n",
              "    <path d=\"M120-120v-720h720v720H120Zm60-500h600v-160H180v160Zm220 220h160v-160H400v160Zm0 220h160v-160H400v160ZM180-400h160v-160H180v160Zm440 0h160v-160H620v160ZM180-180h160v-160H180v160Zm440 0h160v-160H620v160Z\"/>\n",
              "  </svg>\n",
              "    </button>\n",
              "\n",
              "  <style>\n",
              "    .colab-df-container {\n",
              "      display:flex;\n",
              "      gap: 12px;\n",
              "    }\n",
              "\n",
              "    .colab-df-convert {\n",
              "      background-color: #E8F0FE;\n",
              "      border: none;\n",
              "      border-radius: 50%;\n",
              "      cursor: pointer;\n",
              "      display: none;\n",
              "      fill: #1967D2;\n",
              "      height: 32px;\n",
              "      padding: 0 0 0 0;\n",
              "      width: 32px;\n",
              "    }\n",
              "\n",
              "    .colab-df-convert:hover {\n",
              "      background-color: #E2EBFA;\n",
              "      box-shadow: 0px 1px 2px rgba(60, 64, 67, 0.3), 0px 1px 3px 1px rgba(60, 64, 67, 0.15);\n",
              "      fill: #174EA6;\n",
              "    }\n",
              "\n",
              "    .colab-df-buttons div {\n",
              "      margin-bottom: 4px;\n",
              "    }\n",
              "\n",
              "    [theme=dark] .colab-df-convert {\n",
              "      background-color: #3B4455;\n",
              "      fill: #D2E3FC;\n",
              "    }\n",
              "\n",
              "    [theme=dark] .colab-df-convert:hover {\n",
              "      background-color: #434B5C;\n",
              "      box-shadow: 0px 1px 3px 1px rgba(0, 0, 0, 0.15);\n",
              "      filter: drop-shadow(0px 1px 2px rgba(0, 0, 0, 0.3));\n",
              "      fill: #FFFFFF;\n",
              "    }\n",
              "  </style>\n",
              "\n",
              "    <script>\n",
              "      const buttonEl =\n",
              "        document.querySelector('#df-2a28ef36-c853-4d42-9ad7-c32613523281 button.colab-df-convert');\n",
              "      buttonEl.style.display =\n",
              "        google.colab.kernel.accessAllowed ? 'block' : 'none';\n",
              "\n",
              "      async function convertToInteractive(key) {\n",
              "        const element = document.querySelector('#df-2a28ef36-c853-4d42-9ad7-c32613523281');\n",
              "        const dataTable =\n",
              "          await google.colab.kernel.invokeFunction('convertToInteractive',\n",
              "                                                    [key], {});\n",
              "        if (!dataTable) return;\n",
              "\n",
              "        const docLinkHtml = 'Like what you see? Visit the ' +\n",
              "          '<a target=\"_blank\" href=https://colab.research.google.com/notebooks/data_table.ipynb>data table notebook</a>'\n",
              "          + ' to learn more about interactive tables.';\n",
              "        element.innerHTML = '';\n",
              "        dataTable['output_type'] = 'display_data';\n",
              "        await google.colab.output.renderOutput(dataTable, element);\n",
              "        const docLink = document.createElement('div');\n",
              "        docLink.innerHTML = docLinkHtml;\n",
              "        element.appendChild(docLink);\n",
              "      }\n",
              "    </script>\n",
              "  </div>\n",
              "\n",
              "\n",
              "    <div id=\"df-5560b1e8-4051-4fe8-911a-69b8443b97e6\">\n",
              "      <button class=\"colab-df-quickchart\" onclick=\"quickchart('df-5560b1e8-4051-4fe8-911a-69b8443b97e6')\"\n",
              "                title=\"Suggest charts\"\n",
              "                style=\"display:none;\">\n",
              "\n",
              "<svg xmlns=\"http://www.w3.org/2000/svg\" height=\"24px\"viewBox=\"0 0 24 24\"\n",
              "     width=\"24px\">\n",
              "    <g>\n",
              "        <path d=\"M19 3H5c-1.1 0-2 .9-2 2v14c0 1.1.9 2 2 2h14c1.1 0 2-.9 2-2V5c0-1.1-.9-2-2-2zM9 17H7v-7h2v7zm4 0h-2V7h2v10zm4 0h-2v-4h2v4z\"/>\n",
              "    </g>\n",
              "</svg>\n",
              "      </button>\n",
              "\n",
              "<style>\n",
              "  .colab-df-quickchart {\n",
              "      --bg-color: #E8F0FE;\n",
              "      --fill-color: #1967D2;\n",
              "      --hover-bg-color: #E2EBFA;\n",
              "      --hover-fill-color: #174EA6;\n",
              "      --disabled-fill-color: #AAA;\n",
              "      --disabled-bg-color: #DDD;\n",
              "  }\n",
              "\n",
              "  [theme=dark] .colab-df-quickchart {\n",
              "      --bg-color: #3B4455;\n",
              "      --fill-color: #D2E3FC;\n",
              "      --hover-bg-color: #434B5C;\n",
              "      --hover-fill-color: #FFFFFF;\n",
              "      --disabled-bg-color: #3B4455;\n",
              "      --disabled-fill-color: #666;\n",
              "  }\n",
              "\n",
              "  .colab-df-quickchart {\n",
              "    background-color: var(--bg-color);\n",
              "    border: none;\n",
              "    border-radius: 50%;\n",
              "    cursor: pointer;\n",
              "    display: none;\n",
              "    fill: var(--fill-color);\n",
              "    height: 32px;\n",
              "    padding: 0;\n",
              "    width: 32px;\n",
              "  }\n",
              "\n",
              "  .colab-df-quickchart:hover {\n",
              "    background-color: var(--hover-bg-color);\n",
              "    box-shadow: 0 1px 2px rgba(60, 64, 67, 0.3), 0 1px 3px 1px rgba(60, 64, 67, 0.15);\n",
              "    fill: var(--button-hover-fill-color);\n",
              "  }\n",
              "\n",
              "  .colab-df-quickchart-complete:disabled,\n",
              "  .colab-df-quickchart-complete:disabled:hover {\n",
              "    background-color: var(--disabled-bg-color);\n",
              "    fill: var(--disabled-fill-color);\n",
              "    box-shadow: none;\n",
              "  }\n",
              "\n",
              "  .colab-df-spinner {\n",
              "    border: 2px solid var(--fill-color);\n",
              "    border-color: transparent;\n",
              "    border-bottom-color: var(--fill-color);\n",
              "    animation:\n",
              "      spin 1s steps(1) infinite;\n",
              "  }\n",
              "\n",
              "  @keyframes spin {\n",
              "    0% {\n",
              "      border-color: transparent;\n",
              "      border-bottom-color: var(--fill-color);\n",
              "      border-left-color: var(--fill-color);\n",
              "    }\n",
              "    20% {\n",
              "      border-color: transparent;\n",
              "      border-left-color: var(--fill-color);\n",
              "      border-top-color: var(--fill-color);\n",
              "    }\n",
              "    30% {\n",
              "      border-color: transparent;\n",
              "      border-left-color: var(--fill-color);\n",
              "      border-top-color: var(--fill-color);\n",
              "      border-right-color: var(--fill-color);\n",
              "    }\n",
              "    40% {\n",
              "      border-color: transparent;\n",
              "      border-right-color: var(--fill-color);\n",
              "      border-top-color: var(--fill-color);\n",
              "    }\n",
              "    60% {\n",
              "      border-color: transparent;\n",
              "      border-right-color: var(--fill-color);\n",
              "    }\n",
              "    80% {\n",
              "      border-color: transparent;\n",
              "      border-right-color: var(--fill-color);\n",
              "      border-bottom-color: var(--fill-color);\n",
              "    }\n",
              "    90% {\n",
              "      border-color: transparent;\n",
              "      border-bottom-color: var(--fill-color);\n",
              "    }\n",
              "  }\n",
              "</style>\n",
              "\n",
              "      <script>\n",
              "        async function quickchart(key) {\n",
              "          const quickchartButtonEl =\n",
              "            document.querySelector('#' + key + ' button');\n",
              "          quickchartButtonEl.disabled = true;  // To prevent multiple clicks.\n",
              "          quickchartButtonEl.classList.add('colab-df-spinner');\n",
              "          try {\n",
              "            const charts = await google.colab.kernel.invokeFunction(\n",
              "                'suggestCharts', [key], {});\n",
              "          } catch (error) {\n",
              "            console.error('Error during call to suggestCharts:', error);\n",
              "          }\n",
              "          quickchartButtonEl.classList.remove('colab-df-spinner');\n",
              "          quickchartButtonEl.classList.add('colab-df-quickchart-complete');\n",
              "        }\n",
              "        (() => {\n",
              "          let quickchartButtonEl =\n",
              "            document.querySelector('#df-5560b1e8-4051-4fe8-911a-69b8443b97e6 button');\n",
              "          quickchartButtonEl.style.display =\n",
              "            google.colab.kernel.accessAllowed ? 'block' : 'none';\n",
              "        })();\n",
              "      </script>\n",
              "    </div>\n",
              "\n",
              "    </div>\n",
              "  </div>\n"
            ],
            "application/vnd.google.colaboratory.intrinsic+json": {
              "type": "dataframe",
              "variable_name": "df",
              "summary": "{\n  \"name\": \"df\",\n  \"rows\": 975,\n  \"fields\": [\n    {\n      \"column\": \"Gender\",\n      \"properties\": {\n        \"dtype\": \"number\",\n        \"std\": 0,\n        \"min\": 0,\n        \"max\": 1,\n        \"num_unique_values\": 2,\n        \"samples\": [\n          1,\n          0\n        ],\n        \"semantic_type\": \"\",\n        \"description\": \"\"\n      }\n    },\n    {\n      \"column\": \"Age\",\n      \"properties\": {\n        \"dtype\": \"number\",\n        \"std\": 16,\n        \"min\": 1,\n        \"max\": 59,\n        \"num_unique_values\": 59,\n        \"samples\": [\n          56,\n          30\n        ],\n        \"semantic_type\": \"\",\n        \"description\": \"\"\n      }\n    },\n    {\n      \"column\": \"Birth Weight\",\n      \"properties\": {\n        \"dtype\": \"number\",\n        \"std\": 0.28293482277145426,\n        \"min\": 2.4499999999999993,\n        \"max\": 3.6500000000000004,\n        \"num_unique_values\": 14,\n        \"samples\": [\n          2.7,\n          3.4\n        ],\n        \"semantic_type\": \"\",\n        \"description\": \"\"\n      }\n    },\n    {\n      \"column\": \"Birth Length\",\n      \"properties\": {\n        \"dtype\": \"number\",\n        \"std\": 1.0713119979811652,\n        \"min\": 45.32172670866616,\n        \"max\": 53.0,\n        \"num_unique_values\": 9,\n        \"samples\": [\n          46.0,\n          49.0\n        ],\n        \"semantic_type\": \"\",\n        \"description\": \"\"\n      }\n    },\n    {\n      \"column\": \"Body Weight\",\n      \"properties\": {\n        \"dtype\": \"number\",\n        \"std\": 3.2312334223213712,\n        \"min\": 2.9,\n        \"max\": 18.575,\n        \"num_unique_values\": 98,\n        \"samples\": [\n          8.1,\n          8.0\n        ],\n        \"semantic_type\": \"\",\n        \"description\": \"\"\n      }\n    },\n    {\n      \"column\": \"Body Length\",\n      \"properties\": {\n        \"dtype\": \"number\",\n        \"std\": 13.857852426687575,\n        \"min\": 53.0,\n        \"max\": 111.0,\n        \"num_unique_values\": 146,\n        \"samples\": [\n          98.0,\n          83.0\n        ],\n        \"semantic_type\": \"\",\n        \"description\": \"\"\n      }\n    },\n    {\n      \"column\": \"Breastfeeding\",\n      \"properties\": {\n        \"dtype\": \"number\",\n        \"std\": 0,\n        \"min\": 0,\n        \"max\": 1,\n        \"num_unique_values\": 2,\n        \"samples\": [\n          0,\n          1\n        ],\n        \"semantic_type\": \"\",\n        \"description\": \"\"\n      }\n    },\n    {\n      \"column\": \"Stunting\",\n      \"properties\": {\n        \"dtype\": \"number\",\n        \"std\": 0,\n        \"min\": 0,\n        \"max\": 1,\n        \"num_unique_values\": 2,\n        \"samples\": [\n          1,\n          0\n        ],\n        \"semantic_type\": \"\",\n        \"description\": \"\"\n      }\n    }\n  ]\n}"
            }
          },
          "metadata": {},
          "execution_count": 421
        }
      ]
    },
    {
      "cell_type": "markdown",
      "source": [
        "### Heatmap Correlation"
      ],
      "metadata": {
        "id": "MmAOik6hTBA6"
      }
    },
    {
      "cell_type": "code",
      "source": [
        "# melihat korelasi antar fitur (heatmap)\n",
        "plt.figure(figsize=(12, 10))\n",
        "sns.heatmap(df.corr(), annot=True, cmap='coolwarm')\n",
        "plt.title(\"Heatmap Korelasi Fitur\")\n",
        "plt.show()"
      ],
      "metadata": {
        "id": "pmAaVlKVijkJ",
        "colab": {
          "base_uri": "https://localhost:8080/",
          "height": 681
        },
        "outputId": "ffecd529-d67e-4431-d572-a6d48715137d"
      },
      "execution_count": 422,
      "outputs": [
        {
          "output_type": "display_data",
          "data": {
            "text/plain": [
              "<Figure size 1200x1000 with 2 Axes>"
            ],
            "image/png": "[encoded data removed]"
          },
          "metadata": {}
        }
      ]
    },
    {
      "cell_type": "markdown",
      "source": [
        "- PADA TAHAP SELANJUTNYA, SILAHKAN BANDINGKAN HASIL PEMODELAN KETIKA MENGGUNAKAN DATA YANG TELAH DIAUGMENTASI MENGGUNAKAN GAN DENGAN DATA YANG DIAUGMENTASI MENGGUNAKAN SMOTE.\n",
        "\n",
        "- SETELAH ITU, JAWAB PERTANYAAN BERIKUT:\n",
        "  - DARI RATA-RATA SEMUA MODEL YANG DIBANDINGKAN (RF, KNN, DAN LOGISTIC REGRESSION), AKURASI YANG DIDAPATKAN LEBIH TINGGI MENGGUNAKAN AUGMENTASI GAN ATAU SMOTE? : `ISI DI SINI`"
      ],
      "metadata": {
        "id": "X98UxED8itG5"
      }
    },
    {
      "cell_type": "markdown",
      "source": [
        "## BAB 7 – menentukan label data"
      ],
      "metadata": {
        "id": "9pmDKoCJkgHM"
      }
    },
    {
      "cell_type": "markdown",
      "source": [],
      "metadata": {
        "id": "7dfdUkdHkwWq"
      }
    },
    {
      "cell_type": "markdown",
      "source": [
        "- yang menjadi target adalah: 'isi disini'\n",
        "- yang menjadi fitur adalah : 'isi disini'"
      ],
      "metadata": {
        "id": "PA-WFyA3kjdy"
      }
    },
    {
      "cell_type": "code",
      "source": [
        "df.info()"
      ],
      "metadata": {
        "colab": {
          "base_uri": "https://localhost:8080/"
        },
        "id": "BU5ddWLKTh_F",
        "outputId": "b4b52c72-f770-4b21-d90f-6ced8bfdeb47"
      },
      "execution_count": 423,
      "outputs": [
        {
          "output_type": "stream",
          "name": "stdout",
          "text": [
            "<class 'pandas.core.frame.DataFrame'>\n",
            "Index: 975 entries, 0 to 6487\n",
            "Data columns (total 8 columns):\n",
            " #   Column         Non-Null Count  Dtype  \n",
            "---  ------         --------------  -----  \n",
            " 0   Gender         975 non-null    int64  \n",
            " 1   Age            975 non-null    int64  \n",
            " 2   Birth Weight   975 non-null    float64\n",
            " 3   Birth Length   975 non-null    float64\n",
            " 4   Body Weight    975 non-null    float64\n",
            " 5   Body Length    975 non-null    float64\n",
            " 6   Breastfeeding  975 non-null    int64  \n",
            " 7   Stunting       975 non-null    int64  \n",
            "dtypes: float64(4), int64(4)\n",
            "memory usage: 68.6 KB\n"
          ]
        }
      ]
    },
    {
      "cell_type": "markdown",
      "source": [
        "### Splitting"
      ],
      "metadata": {
        "id": "vCMm8keqcqWe"
      }
    },
    {
      "cell_type": "markdown",
      "source": [
        "#### Splitting untuk SMOTE"
      ],
      "metadata": {
        "id": "Vf6Kbu9mY91r"
      }
    },
    {
      "cell_type": "code",
      "source": [
        "X_smote = df.drop('Stunting', axis=1)\n",
        "y_smote = df['Stunting']"
      ],
      "metadata": {
        "id": "ctX1qrJlY918"
      },
      "execution_count": 424,
      "outputs": []
    },
    {
      "cell_type": "code",
      "source": [
        "# Splitting data untuk SMOTE\n",
        "X_train_smote, X_test_smote, y_train_smote, y_test_smote = train_test_split(X_smote, y_smote, stratify=y_smote, test_size=0.2, random_state=42)"
      ],
      "metadata": {
        "id": "byCgCTOXY91-"
      },
      "execution_count": 425,
      "outputs": []
    },
    {
      "cell_type": "markdown",
      "source": [
        "### Balancing data Imbalance"
      ],
      "metadata": {
        "id": "gf5r1cspUMBb"
      }
    },
    {
      "cell_type": "code",
      "source": [
        "print(\"Distribusi kelas di train (original):\")\n",
        "print(y_train_smote.value_counts())\n",
        "sns.countplot(x=y_train_smote)\n",
        "plt.title(\"Distribusi Kelas Train Asli\")\n",
        "plt.show()"
      ],
      "metadata": {
        "colab": {
          "base_uri": "https://localhost:8080/",
          "height": 561
        },
        "id": "lnvZAOrsxEu2",
        "outputId": "b9c8db5d-fcb4-4e25-9139-53565337f5b6"
      },
      "execution_count": 426,
      "outputs": [
        {
          "output_type": "stream",
          "name": "stdout",
          "text": [
            "Distribusi kelas di train (original):\n",
            "Stunting\n",
            "1    405\n",
            "0    375\n",
            "Name: count, dtype: int64\n"
          ]
        },
        {
          "output_type": "display_data",
          "data": {
            "text/plain": [
              "<Figure size 640x480 with 1 Axes>"
            ],
            "image/png": "[encoded data removed]"
          },
          "metadata": {}
        }
      ]
    },
    {
      "cell_type": "markdown",
      "source": [
        "#### SMOTE"
      ],
      "metadata": {
        "id": "uPnpWi0iRMTU"
      }
    },
    {
      "cell_type": "code",
      "source": [
        "# karena jumlah kelas target tidak seimbang, kita akan melakukan resampling\n",
        "smote = SMOTE(random_state=42)\n",
        "X_smote_resampled, y_smote_resampled = smote.fit_resample(X_train_smote, y_train_smote)"
      ],
      "metadata": {
        "id": "T_TVZIrWiBh4"
      },
      "execution_count": 427,
      "outputs": []
    },
    {
      "cell_type": "code",
      "source": [
        "# Tampilkan visualisasi persebaran kelas setelah melalui proses sampling\n",
        "print(\"Distribusi kelas setelah SMOTE:\")\n",
        "print(pd.Series(y_smote_resampled).value_counts())\n",
        "sns.countplot(x=y_smote_resampled)\n",
        "plt.title(\"Distribusi Kelas SMOTE\")\n",
        "plt.show()"
      ],
      "metadata": {
        "id": "iGWAoRMHEzUr",
        "colab": {
          "base_uri": "https://localhost:8080/",
          "height": 561
        },
        "outputId": "64f13401-5629-4c3f-cca2-62b6e0e6400e"
      },
      "execution_count": 428,
      "outputs": [
        {
          "output_type": "stream",
          "name": "stdout",
          "text": [
            "Distribusi kelas setelah SMOTE:\n",
            "Stunting\n",
            "0    405\n",
            "1    405\n",
            "Name: count, dtype: int64\n"
          ]
        },
        {
          "output_type": "display_data",
          "data": {
            "text/plain": [
              "<Figure size 640x480 with 1 Axes>"
            ],
            "image/png": "[encoded data removed]"
          },
          "metadata": {}
        }
      ]
    },
    {
      "cell_type": "markdown",
      "source": [
        "### Normalisasi"
      ],
      "metadata": {
        "id": "F9hldM1Rh8ch"
      }
    },
    {
      "cell_type": "markdown",
      "source": [
        "- ANDA PERLU MELAKUKAN NORMALISASI DISINI"
      ],
      "metadata": {
        "id": "dF7ZVb28l9dK"
      }
    },
    {
      "cell_type": "code",
      "source": [
        "# Scaling\n",
        "from sklearn.preprocessing import MinMaxScaler\n",
        "scaler_smote = MinMaxScaler()\n",
        "X_train_smote_scaled = scaler_smote.fit_transform(X_smote_resampled)\n",
        "X_test_smote_scaled = scaler_smote.transform(X_test_smote)"
      ],
      "metadata": {
        "id": "Sl5x3OnqvCQG"
      },
      "execution_count": 429,
      "outputs": []
    },
    {
      "cell_type": "markdown",
      "source": [
        "- Dari pekerjaan Mengkonstruksi Data yang telah anda lakukan, bagaimana cara Anda menentukan fitur-fitur pada dataset anda perlu dinormalisasi atau tidak? : 'ISI DISINI'"
      ],
      "metadata": {
        "id": "hukyz1XKG56f"
      }
    },
    {
      "cell_type": "markdown",
      "source": [
        "## BAB 8 –  membangun model"
      ],
      "metadata": {
        "id": "pOd56ErQm89M"
      }
    },
    {
      "cell_type": "code",
      "source": [
        "def eval_model(model, X_train_data, y_train_data, X_test_data, y_test_data, model_name):\n",
        "    model.fit(X_train_data, y_train_data)\n",
        "    y_pred = model.predict(X_test_data)\n",
        "    print(f\"=== {model_name} ===\")\n",
        "    print(classification_report(y_test_data, y_pred))\n",
        "    sns.heatmap(confusion_matrix(y_test_data, y_pred), annot=True, fmt='d', cmap='viridis')\n",
        "    plt.title(f\"Confusion Matrix - {model_name}\")\n",
        "    plt.xlabel(\"Predicted\")\n",
        "    plt.ylabel(\"Actual\")\n",
        "    plt.show()"
      ],
      "metadata": {
        "id": "3QrAw2eFyupN"
      },
      "execution_count": 430,
      "outputs": []
    },
    {
      "cell_type": "markdown",
      "source": [
        "### Decision Tree"
      ],
      "metadata": {
        "id": "kJwXHhZsMMbn"
      }
    },
    {
      "cell_type": "code",
      "source": [
        "dt = DecisionTreeClassifier(random_state=42)\n",
        "\n",
        "print(\"Decision Tree\")\n",
        "eval_model(dt, X_train_smote_scaled, y_smote_resampled, X_test_smote_scaled, y_test_smote, \"Decision Tree\")\n"
      ],
      "metadata": {
        "id": "GYigYgp4n1DP",
        "colab": {
          "base_uri": "https://localhost:8080/",
          "height": 667
        },
        "outputId": "021faca0-a3ea-4dbf-8356-0d913455633c"
      },
      "execution_count": 431,
      "outputs": [
        {
          "output_type": "stream",
          "name": "stdout",
          "text": [
            "Decision Tree\n",
            "=== Decision Tree ===\n",
            "              precision    recall  f1-score   support\n",
            "\n",
            "           0       0.86      0.82      0.84        94\n",
            "           1       0.84      0.87      0.85       101\n",
            "\n",
            "    accuracy                           0.85       195\n",
            "   macro avg       0.85      0.85      0.85       195\n",
            "weighted avg       0.85      0.85      0.85       195\n",
            "\n"
          ]
        },
        {
          "output_type": "display_data",
          "data": {
            "text/plain": [
              "<Figure size 640x480 with 2 Axes>"
            ],
            "image/png": "[encoded data removed]"
          },
          "metadata": {}
        }
      ]
    },
    {
      "cell_type": "code",
      "source": [
        "from sklearn.ensemble import RandomForestClassifier\n",
        "rf = RandomForestClassifier(random_state=42)\n",
        "\n",
        "print(\"Random Forest\")\n",
        "eval_model(rf, X_train_smote_scaled, y_smote_resampled, X_test_smote_scaled, y_test_smote, \"Random Forest\")"
      ],
      "metadata": {
        "colab": {
          "base_uri": "https://localhost:8080/",
          "height": 667
        },
        "id": "8KYRUQ4Xz-Je",
        "outputId": "2f13e3d5-9741-4955-8696-a7e038f78cd3"
      },
      "execution_count": 432,
      "outputs": [
        {
          "output_type": "stream",
          "name": "stdout",
          "text": [
            "Random Forest\n",
            "=== Random Forest ===\n",
            "              precision    recall  f1-score   support\n",
            "\n",
            "           0       0.94      0.84      0.89        94\n",
            "           1       0.86      0.95      0.91       101\n",
            "\n",
            "    accuracy                           0.90       195\n",
            "   macro avg       0.90      0.90      0.90       195\n",
            "weighted avg       0.90      0.90      0.90       195\n",
            "\n"
          ]
        },
        {
          "output_type": "display_data",
          "data": {
            "text/plain": [
              "<Figure size 640x480 with 2 Axes>"
            ],
            "image/png": "[encoded data removed]"
          },
          "metadata": {}
        }
      ]
    },
    {
      "cell_type": "markdown",
      "source": [
        "## BAB 9 – mengevaluasi hasil pemodelan"
      ],
      "metadata": {
        "id": "epQAfmdtojYE"
      }
    },
    {
      "cell_type": "code",
      "source": [
        "# Inisialisasi model dasar\n",
        "dt = DecisionTreeClassifier(random_state=42)\n",
        "rf = RandomForestClassifier(random_state=42)\n",
        "\n",
        "# SMOTE\n",
        "dt.fit(X_train_smote_scaled, y_smote_resampled)\n",
        "dt_smote_acc = accuracy_score(y_test_smote, dt.predict(X_test_smote_scaled))\n",
        "\n",
        "rf.fit(X_train_smote_scaled, y_smote_resampled)\n",
        "rf_smote_acc = accuracy_score(y_test_smote, rf.predict(X_test_smote_scaled))"
      ],
      "metadata": {
        "id": "NBs6_mreoLpA"
      },
      "execution_count": 433,
      "outputs": []
    },
    {
      "cell_type": "code",
      "source": [
        "# Nama model\n",
        "model_names = [\n",
        "   'Decision Tree', 'Random Forest'\n",
        "]\n",
        "\n",
        "# Akurasi dari semua model\n",
        "accuracies = [\n",
        "    dt_smote_acc, rf_smote_acc\n",
        "]\n",
        "\n",
        "# Buat DataFrame untuk plotting\n",
        "df_result = pd.DataFrame({\n",
        "    'Model': model_names,\n",
        "    'Accuracy': accuracies,\n",
        "    'Augmentation': ['SMOTE'] * 2\n",
        "})\n",
        "\n",
        "# Plotting\n",
        "plt.figure(figsize=(10, 6))\n",
        "sns.barplot(x='Model', y='Accuracy', hue='Augmentation', data=df_result, palette='Set2')\n",
        "plt.title(\"Perbandingan Akurasi Model SMOTE VS GAN\")\n",
        "plt.ylabel(\"Akurasi\")\n",
        "plt.xlabel(\"Model\")\n",
        "plt.ylim(0.5)\n",
        "plt.xticks(rotation=30)\n",
        "plt.grid(axis='y', linestyle='--', alpha=0.7)\n",
        "plt.tight_layout()\n",
        "plt.show()\n"
      ],
      "metadata": {
        "colab": {
          "base_uri": "https://localhost:8080/",
          "height": 451
        },
        "id": "JEMkNbfh_FKj",
        "outputId": "b63ab55c-f149-4548-f6a0-7b57a8798ecb"
      },
      "execution_count": 434,
      "outputs": [
        {
          "output_type": "display_data",
          "data": {
            "text/plain": [
              "<Figure size 1000x600 with 1 Axes>"
            ],
            "image/png": "[encoded data removed]"
          },
          "metadata": {}
        }
      ]
    },
    {
      "cell_type": "code",
      "source": [
        "# Misalnya model Random Forest-mu bernama rf_model\n",
        "import pickle\n",
        "\n",
        "with open(\"random_forest_model.pkl\", \"wb\") as f:\n",
        "    pickle.dump(rf, f)\n",
        "\n",
        "# Kalau kamu pakai MinMaxScaler\n",
        "with open(\"scaler.pkl\", \"wb\") as f:\n",
        "    pickle.dump(scaler_smote, f)\n"
      ],
      "metadata": {
        "id": "NaYk95SQ6Jsa"
      },
      "execution_count": 435,
      "outputs": []
    },
    {
      "cell_type": "code",
      "source": [
        "with open(\"random_forest_model.pkl\", \"rb\") as f:\n",
        "    model = pickle.load(f)\n",
        "print(type(model))\n"
      ],
      "metadata": {
        "colab": {
          "base_uri": "https://localhost:8080/"
        },
        "id": "uuQInGL5AfcQ",
        "outputId": "3245385c-f44e-45ae-9d67-c7b8c67efd0c"
      },
      "execution_count": 436,
      "outputs": [
        {
          "output_type": "stream",
          "name": "stdout",
          "text": [
            "<class 'sklearn.ensemble._forest.RandomForestClassifier'>\n"
          ]
        }
      ]
    }
  ]
}